{
 "cells": [
  {
   "cell_type": "code",
   "execution_count": 3,
   "id": "e1c29ee5",
   "metadata": {},
   "outputs": [
    {
     "name": "stdout",
     "output_type": "stream",
     "text": [
      "Requirement already satisfied: opencv-python in /opt/anaconda3/lib/python3.12/site-packages (4.11.0.86)\n",
      "Requirement already satisfied: numpy>=1.21.2 in /opt/anaconda3/lib/python3.12/site-packages (from opencv-python) (1.26.4)\n",
      "Requirement already satisfied: scenedetect in /opt/anaconda3/lib/python3.12/site-packages (0.6.5.2)\n",
      "Requirement already satisfied: Click in /opt/anaconda3/lib/python3.12/site-packages (from scenedetect) (8.1.7)\n",
      "Requirement already satisfied: numpy in /opt/anaconda3/lib/python3.12/site-packages (from scenedetect) (1.26.4)\n",
      "Requirement already satisfied: platformdirs in /opt/anaconda3/lib/python3.12/site-packages (from scenedetect) (3.10.0)\n",
      "Requirement already satisfied: tqdm in /opt/anaconda3/lib/python3.12/site-packages (from scenedetect) (4.65.2)\n"
     ]
    }
   ],
   "source": [
    "!pip install opencv-python\n",
    "!pip install scenedetect"
   ]
  },
  {
   "cell_type": "code",
   "execution_count": 1,
   "id": "f2c4fa33",
   "metadata": {},
   "outputs": [],
   "source": [
    "video_path = \"/Users/ducle/mSATA/videos/Tiêu điểm_ SPF chỉ là con số  Cảnh báo từ những vụ bê bối kem chống nắng _ VTV24.mp4\"\n",
    "video_path = r\"D:\\source_AI\\scene\\scene_grouping\\Các địa phương triển khai biện pháp ứng phó COVID-19 _ VTV24.mp4\""
   ]
  },
  {
   "cell_type": "code",
   "execution_count": 2,
   "id": "a3a94eaf",
   "metadata": {},
   "outputs": [
    {
     "name": "stderr",
     "output_type": "stream",
     "text": [
      "c:\\ProgramData\\anaconda3\\envs\\stt\\Lib\\site-packages\\tqdm\\auto.py:21: TqdmWarning: IProgress not found. Please update jupyter and ipywidgets. See https://ipywidgets.readthedocs.io/en/stable/user_install.html\n",
      "  from .autonotebook import tqdm as notebook_tqdm\n"
     ]
    }
   ],
   "source": [
    "from scenedetect import detect, ContentDetector\n",
    "import cv2\n",
    "def detect_scenes(video_path):\n",
    "    scene_list = detect(video_path, ContentDetector())\n",
    "    info = {}\n",
    "    # get total number of frames\n",
    "    cap = cv2.VideoCapture(video_path)\n",
    "    total_frames = int(cap.get(cv2.CAP_PROP_FRAME_COUNT))\n",
    "    # get duration of video\n",
    "    fps = int(cap.get(cv2.CAP_PROP_FPS))\n",
    "    duration = total_frames / fps\n",
    "    info['total_frames'] = total_frames\n",
    "    info['duration'] = duration\n",
    "    # get scene list\n",
    "    frame_list = []\n",
    "    time_list = []\n",
    "    for i, scene in enumerate(scene_list):\n",
    "        start_frame = scene[0].get_frames()\n",
    "        end_frame = scene[1].get_frames()\n",
    "        start_time = scene[0].get_timecode()\n",
    "        end_time = scene[1].get_timecode()\n",
    "        frame_list.append((start_frame, end_frame))\n",
    "        time_list.append((start_time, end_time))\n",
    "    info['frame_list'] = frame_list\n",
    "    info['time_list'] = time_list\n",
    "    \n",
    "    return info"
   ]
  },
  {
   "cell_type": "code",
   "execution_count": 3,
   "id": "cfd64552",
   "metadata": {},
   "outputs": [],
   "source": [
    "frame_list = detect_scenes(video_path)\n",
    "mid_frames = [(start + end) // 2 for start, end in frame_list['frame_list']]"
   ]
  },
  {
   "cell_type": "code",
   "execution_count": 4,
   "id": "4eade12b",
   "metadata": {},
   "outputs": [],
   "source": [
    "# split into clip\n",
    "import cv2 \n",
    "import os\n",
    "scene_path = \"scene\"\n",
    "if not os.path.exists(scene_path):\n",
    "    os.makedirs(scene_path)\n",
    "\n",
    "num_clips = len(frame_list['frame_list'])\n",
    "for i in range(num_clips):\n",
    "    start_frame, end_frame = frame_list['frame_list'][i]\n",
    "    mid_frame = mid_frames[i]\n",
    "    cap = cv2.VideoCapture(video_path)\n",
    "    cap.set(cv2.CAP_PROP_POS_FRAMES, start_frame)\n",
    "    \n",
    "    out = cv2.VideoWriter(f\"{scene_path}/clip_{i}.mp4\", \n",
    "                          cv2.VideoWriter_fourcc(*'mp4v'), \n",
    "                          30, (int(cap.get(3)), int(cap.get(4))))\n",
    "    \n",
    "    for frame_num in range(start_frame, end_frame + 1):\n",
    "        ret, frame = cap.read()\n",
    "        if not ret:\n",
    "            break\n",
    "        out.write(frame)\n",
    "    \n",
    "    out.release()\n",
    "    cap.release()\n"
   ]
  },
  {
   "cell_type": "code",
   "execution_count": 5,
   "id": "bafdd992",
   "metadata": {},
   "outputs": [
    {
     "name": "stdout",
     "output_type": "stream",
     "text": [
      "Requirement already satisfied: transformers in c:\\programdata\\anaconda3\\envs\\stt\\lib\\site-packages (4.51.3)\n",
      "Requirement already satisfied: filelock in c:\\programdata\\anaconda3\\envs\\stt\\lib\\site-packages (from transformers) (3.16.1)\n",
      "Requirement already satisfied: huggingface-hub<1.0,>=0.30.0 in c:\\programdata\\anaconda3\\envs\\stt\\lib\\site-packages (from transformers) (0.30.1)\n",
      "Requirement already satisfied: numpy>=1.17 in c:\\programdata\\anaconda3\\envs\\stt\\lib\\site-packages (from transformers) (1.26.4)\n",
      "Requirement already satisfied: packaging>=20.0 in c:\\programdata\\anaconda3\\envs\\stt\\lib\\site-packages (from transformers) (24.2)\n",
      "Requirement already satisfied: pyyaml>=5.1 in c:\\programdata\\anaconda3\\envs\\stt\\lib\\site-packages (from transformers) (6.0.2)\n",
      "Requirement already satisfied: regex!=2019.12.17 in c:\\programdata\\anaconda3\\envs\\stt\\lib\\site-packages (from transformers) (2024.11.6)\n",
      "Requirement already satisfied: requests in c:\\programdata\\anaconda3\\envs\\stt\\lib\\site-packages (from transformers) (2.32.3)\n",
      "Requirement already satisfied: tokenizers<0.22,>=0.21 in c:\\programdata\\anaconda3\\envs\\stt\\lib\\site-packages (from transformers) (0.21.0)\n",
      "Requirement already satisfied: safetensors>=0.4.3 in c:\\programdata\\anaconda3\\envs\\stt\\lib\\site-packages (from transformers) (0.5.2)\n",
      "Requirement already satisfied: tqdm>=4.27 in c:\\programdata\\anaconda3\\envs\\stt\\lib\\site-packages (from transformers) (4.67.1)\n",
      "Requirement already satisfied: fsspec>=2023.5.0 in c:\\programdata\\anaconda3\\envs\\stt\\lib\\site-packages (from huggingface-hub<1.0,>=0.30.0->transformers) (2024.10.0)\n",
      "Requirement already satisfied: typing-extensions>=3.7.4.3 in c:\\programdata\\anaconda3\\envs\\stt\\lib\\site-packages (from huggingface-hub<1.0,>=0.30.0->transformers) (4.13.2)\n",
      "Requirement already satisfied: colorama in c:\\programdata\\anaconda3\\envs\\stt\\lib\\site-packages (from tqdm>=4.27->transformers) (0.4.6)\n",
      "Requirement already satisfied: charset-normalizer<4,>=2 in c:\\programdata\\anaconda3\\envs\\stt\\lib\\site-packages (from requests->transformers) (3.4.0)\n",
      "Requirement already satisfied: idna<4,>=2.5 in c:\\programdata\\anaconda3\\envs\\stt\\lib\\site-packages (from requests->transformers) (3.10)\n",
      "Requirement already satisfied: urllib3<3,>=1.21.1 in c:\\programdata\\anaconda3\\envs\\stt\\lib\\site-packages (from requests->transformers) (2.3.0)\n",
      "Requirement already satisfied: certifi>=2017.4.17 in c:\\programdata\\anaconda3\\envs\\stt\\lib\\site-packages (from requests->transformers) (2024.8.30)\n"
     ]
    }
   ],
   "source": [
    "!pip install transformers"
   ]
  },
  {
   "cell_type": "code",
   "execution_count": null,
   "id": "90ef4a54",
   "metadata": {},
   "outputs": [],
   "source": []
  },
  {
   "cell_type": "code",
   "execution_count": 6,
   "id": "f43c19a0",
   "metadata": {},
   "outputs": [
    {
     "name": "stderr",
     "output_type": "stream",
     "text": [
      "Using a slow image processor as `use_fast` is unset and a slow processor was saved with this model. `use_fast=True` will be the default behavior in v4.52, even if the model was saved with a slow processor. This will result in minor differences in outputs. You'll still be able to use a slow processor with `use_fast=False`.\n"
     ]
    }
   ],
   "source": [
    "from transformers import CLIPProcessor, CLIPModel\n",
    "from PIL import Image\n",
    "import torch\n",
    "import numpy as np\n",
    "\n",
    "# Load the CLIP model and processor once\n",
    "clip_model = CLIPModel.from_pretrained(\"openai/clip-vit-large-patch14\")\n",
    "clip_processor = CLIPProcessor.from_pretrained(\"openai/clip-vit-large-patch14\")\n",
    "\n",
    "def encode_frame_to_vector(frame):\n",
    "    \"\"\"\n",
    "    Encodes an image frame into a vector using Hugging Face's CLIP model.\n",
    "\n",
    "    Args:\n",
    "        frame (PIL.Image.Image or np.ndarray): The input image frame.\n",
    "\n",
    "    Returns:\n",
    "        torch.Tensor: The image embedding vector (shape: [1, embedding_dim]).\n",
    "    \"\"\"\n",
    "    # Convert NumPy array to PIL Image if needed\n",
    "    if isinstance(frame, np.ndarray):\n",
    "        frame = Image.fromarray(frame)\n",
    "\n",
    "    # Preprocess the frame\n",
    "    inputs = clip_processor(images=frame, return_tensors=\"pt\")\n",
    "\n",
    "    # Get image embedding\n",
    "    with torch.no_grad():\n",
    "        image_features = clip_model.get_image_features(**inputs)\n",
    "\n",
    "    # Normalize the vector\n",
    "    image_features = image_features / image_features.norm(p=2, dim=-1, keepdim=True)\n",
    "\n",
    "    return image_features\n"
   ]
  },
  {
   "cell_type": "code",
   "execution_count": 7,
   "id": "cc209995",
   "metadata": {},
   "outputs": [
    {
     "name": "stdout",
     "output_type": "stream",
     "text": [
      "Time taken to process 26 frames: 10.41 seconds\n"
     ]
    }
   ],
   "source": [
    "features = []\n",
    "import cv2\n",
    "def extract_frame(video_path, frame_number):\n",
    "    \"\"\"\n",
    "    Extracts a specific frame from a video file.\n",
    "\n",
    "    Args:\n",
    "        video_path (str): Path to the video file.\n",
    "        frame_number (int): The frame number to extract.\n",
    "\n",
    "    Returns:\n",
    "        np.ndarray: The extracted frame as a NumPy array.\n",
    "    \"\"\"\n",
    "    cap = cv2.VideoCapture(video_path)\n",
    "    cap.set(cv2.CAP_PROP_POS_FRAMES, frame_number)\n",
    "    ret, frame = cap.read()\n",
    "    cap.release()\n",
    "    \n",
    "    if not ret:\n",
    "        raise ValueError(f\"Could not read frame {frame_number} from video.\")\n",
    "    \n",
    "    return cv2.cvtColor(frame, cv2.COLOR_BGR2RGB)\n",
    "import time \n",
    "start_time = time.time()\n",
    "# Extract mid frames and encode them to vectors\n",
    "for frame_number in mid_frames:\n",
    "    frame = extract_frame(video_path, frame_number)\n",
    "    feature = encode_frame_to_vector(frame)\n",
    "    features.append(feature)\n",
    "print(f\"Time taken to process {len(mid_frames)} frames: {time.time() - start_time:.2f} seconds\")\n"
   ]
  },
  {
   "cell_type": "code",
   "execution_count": 8,
   "id": "010972b9",
   "metadata": {},
   "outputs": [
    {
     "data": {
      "image/png": "[encoded data removed]",
      "text/plain": [
       "<Figure size 640x480 with 2 Axes>"
      ]
     },
     "metadata": {},
     "output_type": "display_data"
    }
   ],
   "source": [
    "import matplotlib.pyplot as plt\n",
    "\n",
    "# show the correlation between the features by cosine similarity\n",
    "def cosine_similarity(a, b):\n",
    "    \"\"\"\n",
    "    Computes the cosine similarity between two vectors.\n",
    "\n",
    "    Args:\n",
    "        a (torch.Tensor): First vector.\n",
    "        b (torch.Tensor): Second vector.\n",
    "\n",
    "    Returns:\n",
    "        float: Cosine similarity value.\n",
    "    \"\"\"\n",
    "    return torch.nn.functional.cosine_similarity(a, b).item()\n",
    "\n",
    "def plot_similarity_matrix(features):\n",
    "    \"\"\"\n",
    "    Plots a similarity matrix for the given features.\n",
    "\n",
    "    Args:\n",
    "        features (list of torch.Tensor): List of feature vectors.\n",
    "    \"\"\"\n",
    "    num_features = len(features)\n",
    "    similarity_matrix = np.zeros((num_features, num_features))\n",
    "\n",
    "    for i in range(num_features):\n",
    "        for j in range(num_features):\n",
    "            similarity_matrix[i, j] = cosine_similarity(features[i], features[j])\n",
    "\n",
    "    plt.imshow(similarity_matrix, cmap='hot', interpolation='nearest')\n",
    "    plt.colorbar()\n",
    "    plt.title('Cosine Similarity Matrix')\n",
    "    plt.xlabel('Frame Index')\n",
    "    plt.ylabel('Frame Index')\n",
    "    plt.show()\n",
    "    return similarity_matrix\n",
    "similarity_matrix = plot_similarity_matrix(features)"
   ]
  },
  {
   "cell_type": "code",
   "execution_count": 10,
   "id": "68c1649f",
   "metadata": {},
   "outputs": [],
   "source": [
    "def convert_timecode_to_seconds(timecode):\n",
    "    \"\"\"\n",
    "    Converts a timecode string to seconds.\n",
    "\n",
    "    Args:\n",
    "        timecode (str): Timecode in the format 'HH:MM:SS.mmm'.\n",
    "\n",
    "    Returns:\n",
    "        float: Time in seconds.\n",
    "    \"\"\"\n",
    "    parts = timecode.split(':')\n",
    "    hours = int(parts[0])\n",
    "    minutes = int(parts[1])\n",
    "    seconds = float(parts[2])\n",
    "    \n",
    "    return hours * 3600 + minutes * 60 + seconds"
   ]
  },
  {
   "cell_type": "code",
   "execution_count": 11,
   "id": "53d694c8",
   "metadata": {},
   "outputs": [
    {
     "data": {
      "text/plain": [
       "[(0.0, 6.28), (6.28, 14.04), (14.04, 20.24), (20.24, 29.64), (29.64, 31.16)]"
      ]
     },
     "execution_count": 11,
     "metadata": {},
     "output_type": "execute_result"
    }
   ],
   "source": [
    "time_list = frame_list['time_list']\n",
    "\n",
    "# Convert time_list to seconds\n",
    "time_list_seconds = [(convert_timecode_to_seconds(start), convert_timecode_to_seconds(end)) for start, end in time_list]\n",
    "# Create a DataFrame to store the results\n",
    "time_list_seconds[0:5]  # Display the first 5 time intervals for brevity"
   ]
  },
  {
   "cell_type": "code",
   "execution_count": 13,
   "id": "0ec68b5c",
   "metadata": {},
   "outputs": [
    {
     "data": {
      "image/png": "[encoded data removed]",
      "text/plain": [
       "<Figure size 640x480 with 1 Axes>"
      ]
     },
     "metadata": {},
     "output_type": "display_data"
    },
    {
     "data": {
      "text/plain": [
       "Text(0, 0.5, 'Decay Value')"
      ]
     },
     "execution_count": 13,
     "metadata": {},
     "output_type": "execute_result"
    },
    {
     "data": {
      "image/png": "[encoded data removed]",
      "text/plain": [
       "<Figure size 1000x500 with 1 Axes>"
      ]
     },
     "metadata": {},
     "output_type": "display_data"
    }
   ],
   "source": [
    "# compute a eˆ(-x), x is the time difference between two frames\n",
    "def compute_exponential_decay(time_list):\n",
    "    \"\"\"\n",
    "    Computes an exponential decay based on the time differences between frames.\n",
    "\n",
    "    Args:\n",
    "        features (list of torch.Tensor): List of feature vectors.\n",
    "        time_list (list of tuples): List of tuples containing start and end times for each frame.\n",
    "\n",
    "    Returns:\n",
    "        list: Exponential decay values for each frame.\n",
    "    \"\"\"\n",
    "    decay_values = []\n",
    "    for i in range(len(time_list) ):\n",
    "        time_diff = (time_list[i ][1] - time_list[i][0])  # end - start\n",
    "        decay_value = float(np.exp(-time_diff)) * 10 \n",
    "        decay_values.append(decay_value)\n",
    "    return decay_values\n",
    "decay_values = compute_exponential_decay(time_list_seconds)\n",
    "# Plot the decay values\n",
    "plt.plot(decay_values, marker='o')\n",
    "# plot the time above the decay values\n",
    "for i, decay_value in enumerate(decay_values):\n",
    "    plt.text(i, decay_value, f\"{time_list_seconds[i][1]-time_list_seconds[i][0]:.2f}\", fontsize=8, ha='center')\n",
    "plt.title('Exponential Decay Values Over Time')\n",
    "# plot similarity matrix\n",
    "sim_consecutive = []\n",
    "for i in range(len(features)):\n",
    "    sim_consecutive.append(cosine_similarity(features[i], features[i - 1]))\n",
    "plt.plot(sim_consecutive, marker='x', color='orange', label='Cosine Similarity (Consecutive Frames)')\n",
    "plt.legend()\n",
    "plt.xlabel('Frame Index')\n",
    "plt.ylabel('Decay Value / Cosine Similarity')\n",
    "plt.xticks(range(len(decay_values)), range(len(decay_values)))\n",
    "# plot the segment score:= decay_value * cosine_similarity \n",
    "segment_scores = [decay_values[i] + sim_consecutive[i] for i in range(len(sim_consecutive))]\n",
    "# apply e^(-x) to the segment scores\n",
    "segment_scores = [np.exp(-score) for score in segment_scores]\n",
    "plt.plot(segment_scores, marker='s', color='green', label='Segment Score (Decay * Cosine Similarity)')\n",
    "plt.legend()\n",
    "plt.title('Exponential Decay and Cosine Similarity')\n",
    "plt.grid()\n",
    "plt.tight_layout()\n",
    "plt.show()\n",
    "plt.figure(figsize=(10, 5))\n",
    "plt.title('Exponential Decay Values')\n",
    "plt.xlabel('Frame Index')\n",
    "plt.ylabel('Decay Value')"
   ]
  },
  {
   "cell_type": "code",
   "execution_count": 51,
   "id": "cf17d501",
   "metadata": {},
   "outputs": [],
   "source": [
    "# [(end-start) for start, end in time_list_seconds]"
   ]
  },
  {
   "cell_type": "code",
   "execution_count": 15,
   "id": "7bb68030",
   "metadata": {},
   "outputs": [
    {
     "data": {
      "text/plain": [
       "[[0, 1, 2, 3],\n",
       " [4],\n",
       " [5],\n",
       " [6],\n",
       " [7],\n",
       " [8, 9],\n",
       " [10],\n",
       " [11, 12],\n",
       " [13],\n",
       " [14],\n",
       " [15, 16, 17, 18],\n",
       " [19],\n",
       " [20, 21, 22]]"
      ]
     },
     "execution_count": 15,
     "metadata": {},
     "output_type": "execute_result"
    }
   ],
   "source": [
    "# group  consecutive frames with cosine similarity > 0.8\n",
    "import numpy as np\n",
    "def group_similar_frames(features, threshold=0.8, max_gap=1):\n",
    "    \n",
    "    groups = list()\n",
    "    c_group = list()\n",
    "    idx = -1\n",
    "    while(idx<len(features)-1):\n",
    "        idx+=1\n",
    "\n",
    "        if len(c_group)==0:\n",
    "            c_group.append(idx)\n",
    "            continue \n",
    "        # sim = np.dot(features[idx], features[idx-1].reshape(-1))\n",
    "        sim =  features[idx]\n",
    "        if sim>=threshold:\n",
    "            c_group.append(idx)\n",
    "            continue \n",
    "        else:\n",
    "            flag = False\n",
    "            for i in range(max_gap):\n",
    "                for j in c_group:\n",
    "                    if not i+idx>=len(features): \n",
    "                        # _sim = np.dot(features[j],features[idx+i].reshape(-1))\n",
    "                        _sim =  features[idx]\n",
    "                        \n",
    "                        if _sim>=threshold:\n",
    "                            flag = True \n",
    "                            for ii in range(i):\n",
    "                                idx+=ii\n",
    "                                c_group.append(idx)\n",
    "                            break \n",
    "                \n",
    "                if flag:\n",
    "                    break \n",
    "            if not flag:\n",
    "                # print(groups)\n",
    "                groups.append(c_group)\n",
    "                c_group = list()\n",
    "                c_group.append(idx)\n",
    "    return groups\n",
    "features = segment_scores\n",
    "groups = group_similar_frames(features, threshold=0.25, max_gap=1) \n",
    "groups                  \n",
    "            \n",
    "            \n",
    "\n"
   ]
  },
  {
   "cell_type": "code",
   "execution_count": 32,
   "id": "4e70e6cd",
   "metadata": {},
   "outputs": [],
   "source": [
    "\n",
    "\n",
    "\n",
    "from ollama import Client \n",
    "\n",
    "device = \"cuda:1\"\n",
    "client_1 = Client(\n",
    "    host='http://localhost:11434',\n",
    "    headers={'x-some-header': 'some-value'}, timeout=15,\n",
    ")\n",
    "\n",
    "\n",
    "def gemma3_captioning(client, img_path):\n",
    "  \n",
    "    prompt = 'Describe this extracted frame, no more than 3 words, no redundant words:'\n",
    "    try:\n",
    "        res = client.chat(\n",
    "            model=\"gemma3:4b\",\n",
    "            messages=[\n",
    "                {\n",
    "                    'role': 'user',\n",
    "                    'content': prompt,\n",
    "                    'images': [img_path]\n",
    "                }\n",
    "            ],\n",
    "   \n",
    "        )\n",
    "    except Exception as e:\n",
    "        print(e)\n",
    "        return None\n",
    "    return res['message']['content']\n",
    "\n",
    "def gemma3_summarization(client, text):\n",
    "    \"\"\"\n",
    "    Summarizes the given text using the Gemma3 model.\n",
    "    \n",
    "    Args:\n",
    "        client (Client): Ollama client instance.\n",
    "        text (str): Text to summarize.\n",
    "    \n",
    "    Returns:\n",
    "        str: Summarized text.\n",
    "    \"\"\"\n",
    "    prompt = 'Summarize this video for better human readable:'\n",
    "    try:\n",
    "        res = client.chat(\n",
    "            model=\"gemma3:4b\",\n",
    "            messages=[\n",
    "                {\n",
    "                    'role': 'user',\n",
    "                    'content': prompt + '\\n' + text\n",
    "                }\n",
    "            ],\n",
    "        )\n",
    "    except Exception as e:\n",
    "        print(e)\n",
    "        return None\n",
    "    return res['message']['content']"
   ]
  },
  {
   "cell_type": "code",
   "execution_count": 33,
   "id": "b4a9280a",
   "metadata": {},
   "outputs": [],
   "source": [
    "# save frame captions to a image file\n",
    "import os\n",
    "import cv2 \n",
    "\n",
    "cap = cv2.VideoCapture(video_path)\n",
    "file_path_list = []\n",
    "def save_frame(frame_number, output_dir):\n",
    "    \"\"\"\n",
    "    Saves a specific frame from the video to an image file.\n",
    "\n",
    "    Args:\n",
    "        frame_number (int): The frame number to save.\n",
    "        output_dir (str): Directory to save the image.\n",
    "    \"\"\"\n",
    "    cap.set(cv2.CAP_PROP_POS_FRAMES, frame_number)\n",
    "    ret, frame = cap.read()\n",
    "    if ret:\n",
    "        file_path = os.path.join(output_dir, f\"frame_{frame_number}.jpg\")\n",
    "        cv2.imwrite(file_path, frame)\n",
    "        return file_path\n",
    "    else:\n",
    "        raise ValueError(f\"Could not read frame {frame_number} from video.\")\n",
    "\n",
    "for i, frame_number in enumerate(mid_frames):\n",
    "    output_dir = \"frames\"\n",
    "    if not os.path.exists(output_dir):\n",
    "        os.makedirs(output_dir)\n",
    "    file_path = save_frame(frame_number, output_dir)\n",
    "    file_path_list.append(file_path)\n",
    "    "
   ]
  },
  {
   "cell_type": "code",
   "execution_count": 34,
   "id": "3302c5be",
   "metadata": {},
   "outputs": [
    {
     "name": "stdout",
     "output_type": "stream",
     "text": [
      "Caption for frames\\frame_78.jpg: News studio scene\n",
      "Caption for frames\\frame_254.jpg: Woman on screen\n",
      "Caption for frames\\frame_428.jpg: News studio scene\n",
      "Caption for frames\\frame_623.jpg: News presenter, cityscape.\n",
      "Caption for frames\\frame_760.jpg: COVID-19 prevention signs\n",
      "Caption for frames\\frame_813.jpg: COVID-19 prevention signs\n",
      "Caption for frames\\frame_871.jpg: Doctor, medical setting\n",
      "Caption for frames\\frame_922.jpg: Cleaning, disinfection, surface.\n",
      "Caption for frames\\frame_981.jpg: Inpatient information display\n",
      "Caption for frames\\frame_1055.jpg: Healthcare worker support\n",
      "Caption for frames\\frame_1124.jpg: Doctor examining patient\n",
      "Caption for frames\\frame_1185.jpg: Hospital patient care\n",
      "Caption for frames\\frame_1254.jpg: Doctor in PPE\n",
      "Caption for frames\\frame_1317.jpg: Hospital patient scene\n",
      "Caption for frames\\frame_1377.jpg: Empty corridor space.\n",
      "Caption for frames\\frame_1431.jpg: COVID test taken\n",
      "Caption for frames\\frame_1601.jpg: News broadcast scene\n",
      "Caption for frames\\frame_1824.jpg: Airport arrival scene\n",
      "Caption for frames\\frame_1942.jpg: Airport security line.\n",
      "Caption for frames\\frame_2020.jpg: Sports arena building\n",
      "Caption for frames\\frame_2079.jpg: Train, red, station.\n",
      "Caption for frames\\frame_2145.jpg: Train station people\n",
      "Caption for frames\\frame_2232.jpg: People, blue backdrop\n",
      "Caption for frames\\frame_2296.jpg: Man, child, train\n",
      "Caption for frames\\frame_2488.jpg: News studio shot\n",
      "Caption for frames\\frame_2858.jpg: News anchor speaking.\n"
     ]
    }
   ],
   "source": [
    "caption_list = list()\n",
    "for file_path in file_path_list:\n",
    "    caption = gemma3_captioning(client_1, file_path)\n",
    "    if caption:\n",
    "        print(f\"Caption for {file_path}: {caption}\")\n",
    "    else:\n",
    "        print(f\"Failed to get caption for {file_path}\")\n",
    "    caption_list.append(caption)    \n"
   ]
  },
  {
   "cell_type": "code",
   "execution_count": 35,
   "id": "ef1bacd5",
   "metadata": {},
   "outputs": [
    {
     "name": "stdout",
     "output_type": "stream",
     "text": [
      "Summary of captions: Okay, here's a human-readable summary of the video footage, pieced together to paint a picture of what it likely depicts:\n",
      "\n",
      "**The video appears to be a news report focusing on the ongoing impact of COVID-19 and related public health measures.**\n",
      "\n",
      "Here's a breakdown of the scenes:\n",
      "\n",
      "*   **Initial News Segments:** The video starts with a news studio scene and a news presenter alongside a cityscape, likely setting the stage for a report.\n",
      "*   **COVID-19 Prevention:** There are several shots of COVID-19 prevention signs, emphasizing the continued need for vigilance.\n",
      "*   **Healthcare Focus:** The video then shifts to scenes within a medical setting, showing a doctor examining a patient, healthcare workers providing support, and a patient receiving care. A doctor is also seen wearing Personal Protective Equipment (PPE).\n",
      "*   **Testing & Patient Care:** There's a shot of a COVID test being taken, highlighting testing efforts.\n",
      "*   **Travel & Public Spaces:** The footage transitions to scenes of airport arrival, security lines, and a train station, suggesting coverage of travel restrictions and public spaces.\n",
      "*   **People & Backdrops:** There are shots of people against a blue backdrop, possibly for graphics or interviews.\n",
      "*   **Final News Segment:** The video concludes with a news anchor speaking, likely wrapping up the report.\n",
      "\n",
      "**Overall Impression:** The video seems to be a news report that covers aspects of the pandemic including healthcare, testing, and public safety measures. \n",
      "\n",
      "---\n",
      "\n",
      "**To help me refine this summary further, could you tell me:**\n",
      "\n",
      "*   What was the overall topic of the news report? (e.g., vaccine updates, travel restrictions, hospital capacity, etc.)\n"
     ]
    }
   ],
   "source": [
    "# summarize the captions\n",
    "summary = gemma3_summarization(client_1, '\\n'.join(caption_list))\n",
    "print(\"Summary of captions:\", summary)\n"
   ]
  },
  {
   "cell_type": "code",
   "execution_count": 37,
   "id": "d42fa7e8",
   "metadata": {},
   "outputs": [
    {
     "ename": "ConnectError",
     "evalue": "[WinError 10049] The requested address is not valid in its context",
     "output_type": "error",
     "traceback": [
      "\u001b[1;31m---------------------------------------------------------------------------\u001b[0m",
      "\u001b[1;31mConnectError\u001b[0m                              Traceback (most recent call last)",
      "File \u001b[1;32mc:\\ProgramData\\anaconda3\\envs\\stt\\Lib\\site-packages\\httpx\\_transports\\default.py:72\u001b[0m, in \u001b[0;36mmap_httpcore_exceptions\u001b[1;34m()\u001b[0m\n\u001b[0;32m     71\u001b[0m \u001b[38;5;28;01mtry\u001b[39;00m:\n\u001b[1;32m---> 72\u001b[0m     \u001b[38;5;28;01myield\u001b[39;00m\n\u001b[0;32m     73\u001b[0m \u001b[38;5;28;01mexcept\u001b[39;00m \u001b[38;5;167;01mException\u001b[39;00m \u001b[38;5;28;01mas\u001b[39;00m exc:\n",
      "File \u001b[1;32mc:\\ProgramData\\anaconda3\\envs\\stt\\Lib\\site-packages\\httpx\\_transports\\default.py:236\u001b[0m, in \u001b[0;36mHTTPTransport.handle_request\u001b[1;34m(self, request)\u001b[0m\n\u001b[0;32m    235\u001b[0m \u001b[38;5;28;01mwith\u001b[39;00m map_httpcore_exceptions():\n\u001b[1;32m--> 236\u001b[0m     resp \u001b[38;5;241m=\u001b[39m \u001b[38;5;28;43mself\u001b[39;49m\u001b[38;5;241;43m.\u001b[39;49m\u001b[43m_pool\u001b[49m\u001b[38;5;241;43m.\u001b[39;49m\u001b[43mhandle_request\u001b[49m\u001b[43m(\u001b[49m\u001b[43mreq\u001b[49m\u001b[43m)\u001b[49m\n\u001b[0;32m    238\u001b[0m \u001b[38;5;28;01massert\u001b[39;00m \u001b[38;5;28misinstance\u001b[39m(resp\u001b[38;5;241m.\u001b[39mstream, typing\u001b[38;5;241m.\u001b[39mIterable)\n",
      "File \u001b[1;32mc:\\ProgramData\\anaconda3\\envs\\stt\\Lib\\site-packages\\httpcore\\_sync\\connection_pool.py:256\u001b[0m, in \u001b[0;36mConnectionPool.handle_request\u001b[1;34m(self, request)\u001b[0m\n\u001b[0;32m    255\u001b[0m     \u001b[38;5;28mself\u001b[39m\u001b[38;5;241m.\u001b[39m_close_connections(closing)\n\u001b[1;32m--> 256\u001b[0m     \u001b[38;5;28;01mraise\u001b[39;00m exc \u001b[38;5;28;01mfrom\u001b[39;00m\u001b[38;5;250m \u001b[39m\u001b[38;5;28;01mNone\u001b[39;00m\n\u001b[0;32m    258\u001b[0m \u001b[38;5;66;03m# Return the response. Note that in this case we still have to manage\u001b[39;00m\n\u001b[0;32m    259\u001b[0m \u001b[38;5;66;03m# the point at which the response is closed.\u001b[39;00m\n",
      "File \u001b[1;32mc:\\ProgramData\\anaconda3\\envs\\stt\\Lib\\site-packages\\httpcore\\_sync\\connection_pool.py:236\u001b[0m, in \u001b[0;36mConnectionPool.handle_request\u001b[1;34m(self, request)\u001b[0m\n\u001b[0;32m    234\u001b[0m \u001b[38;5;28;01mtry\u001b[39;00m:\n\u001b[0;32m    235\u001b[0m     \u001b[38;5;66;03m# Send the request on the assigned connection.\u001b[39;00m\n\u001b[1;32m--> 236\u001b[0m     response \u001b[38;5;241m=\u001b[39m \u001b[43mconnection\u001b[49m\u001b[38;5;241;43m.\u001b[39;49m\u001b[43mhandle_request\u001b[49m\u001b[43m(\u001b[49m\n\u001b[0;32m    237\u001b[0m \u001b[43m        \u001b[49m\u001b[43mpool_request\u001b[49m\u001b[38;5;241;43m.\u001b[39;49m\u001b[43mrequest\u001b[49m\n\u001b[0;32m    238\u001b[0m \u001b[43m    \u001b[49m\u001b[43m)\u001b[49m\n\u001b[0;32m    239\u001b[0m \u001b[38;5;28;01mexcept\u001b[39;00m ConnectionNotAvailable:\n\u001b[0;32m    240\u001b[0m     \u001b[38;5;66;03m# In some cases a connection may initially be available to\u001b[39;00m\n\u001b[0;32m    241\u001b[0m     \u001b[38;5;66;03m# handle a request, but then become unavailable.\u001b[39;00m\n\u001b[0;32m    242\u001b[0m     \u001b[38;5;66;03m#\u001b[39;00m\n\u001b[0;32m    243\u001b[0m     \u001b[38;5;66;03m# In this case we clear the connection and try again.\u001b[39;00m\n",
      "File \u001b[1;32mc:\\ProgramData\\anaconda3\\envs\\stt\\Lib\\site-packages\\httpcore\\_sync\\connection.py:101\u001b[0m, in \u001b[0;36mHTTPConnection.handle_request\u001b[1;34m(self, request)\u001b[0m\n\u001b[0;32m    100\u001b[0m     \u001b[38;5;28mself\u001b[39m\u001b[38;5;241m.\u001b[39m_connect_failed \u001b[38;5;241m=\u001b[39m \u001b[38;5;28;01mTrue\u001b[39;00m\n\u001b[1;32m--> 101\u001b[0m     \u001b[38;5;28;01mraise\u001b[39;00m exc\n\u001b[0;32m    103\u001b[0m \u001b[38;5;28;01mreturn\u001b[39;00m \u001b[38;5;28mself\u001b[39m\u001b[38;5;241m.\u001b[39m_connection\u001b[38;5;241m.\u001b[39mhandle_request(request)\n",
      "File \u001b[1;32mc:\\ProgramData\\anaconda3\\envs\\stt\\Lib\\site-packages\\httpcore\\_sync\\connection.py:78\u001b[0m, in \u001b[0;36mHTTPConnection.handle_request\u001b[1;34m(self, request)\u001b[0m\n\u001b[0;32m     77\u001b[0m \u001b[38;5;28;01mif\u001b[39;00m \u001b[38;5;28mself\u001b[39m\u001b[38;5;241m.\u001b[39m_connection \u001b[38;5;129;01mis\u001b[39;00m \u001b[38;5;28;01mNone\u001b[39;00m:\n\u001b[1;32m---> 78\u001b[0m     stream \u001b[38;5;241m=\u001b[39m \u001b[38;5;28;43mself\u001b[39;49m\u001b[38;5;241;43m.\u001b[39;49m\u001b[43m_connect\u001b[49m\u001b[43m(\u001b[49m\u001b[43mrequest\u001b[49m\u001b[43m)\u001b[49m\n\u001b[0;32m     80\u001b[0m     ssl_object \u001b[38;5;241m=\u001b[39m stream\u001b[38;5;241m.\u001b[39mget_extra_info(\u001b[38;5;124m\"\u001b[39m\u001b[38;5;124mssl_object\u001b[39m\u001b[38;5;124m\"\u001b[39m)\n",
      "File \u001b[1;32mc:\\ProgramData\\anaconda3\\envs\\stt\\Lib\\site-packages\\httpcore\\_sync\\connection.py:124\u001b[0m, in \u001b[0;36mHTTPConnection._connect\u001b[1;34m(self, request)\u001b[0m\n\u001b[0;32m    123\u001b[0m \u001b[38;5;28;01mwith\u001b[39;00m Trace(\u001b[38;5;124m\"\u001b[39m\u001b[38;5;124mconnect_tcp\u001b[39m\u001b[38;5;124m\"\u001b[39m, logger, request, kwargs) \u001b[38;5;28;01mas\u001b[39;00m trace:\n\u001b[1;32m--> 124\u001b[0m     stream \u001b[38;5;241m=\u001b[39m \u001b[38;5;28;43mself\u001b[39;49m\u001b[38;5;241;43m.\u001b[39;49m\u001b[43m_network_backend\u001b[49m\u001b[38;5;241;43m.\u001b[39;49m\u001b[43mconnect_tcp\u001b[49m\u001b[43m(\u001b[49m\u001b[38;5;241;43m*\u001b[39;49m\u001b[38;5;241;43m*\u001b[39;49m\u001b[43mkwargs\u001b[49m\u001b[43m)\u001b[49m\n\u001b[0;32m    125\u001b[0m     trace\u001b[38;5;241m.\u001b[39mreturn_value \u001b[38;5;241m=\u001b[39m stream\n",
      "File \u001b[1;32mc:\\ProgramData\\anaconda3\\envs\\stt\\Lib\\site-packages\\httpcore\\_backends\\sync.py:207\u001b[0m, in \u001b[0;36mSyncBackend.connect_tcp\u001b[1;34m(self, host, port, timeout, local_address, socket_options)\u001b[0m\n\u001b[0;32m    202\u001b[0m exc_map: ExceptionMapping \u001b[38;5;241m=\u001b[39m {\n\u001b[0;32m    203\u001b[0m     socket\u001b[38;5;241m.\u001b[39mtimeout: ConnectTimeout,\n\u001b[0;32m    204\u001b[0m     \u001b[38;5;167;01mOSError\u001b[39;00m: ConnectError,\n\u001b[0;32m    205\u001b[0m }\n\u001b[1;32m--> 207\u001b[0m \u001b[43m\u001b[49m\u001b[38;5;28;43;01mwith\u001b[39;49;00m\u001b[43m \u001b[49m\u001b[43mmap_exceptions\u001b[49m\u001b[43m(\u001b[49m\u001b[43mexc_map\u001b[49m\u001b[43m)\u001b[49m\u001b[43m:\u001b[49m\n\u001b[0;32m    208\u001b[0m \u001b[43m    \u001b[49m\u001b[43msock\u001b[49m\u001b[43m \u001b[49m\u001b[38;5;241;43m=\u001b[39;49m\u001b[43m \u001b[49m\u001b[43msocket\u001b[49m\u001b[38;5;241;43m.\u001b[39;49m\u001b[43mcreate_connection\u001b[49m\u001b[43m(\u001b[49m\n\u001b[0;32m    209\u001b[0m \u001b[43m        \u001b[49m\u001b[43maddress\u001b[49m\u001b[43m,\u001b[49m\n\u001b[0;32m    210\u001b[0m \u001b[43m        \u001b[49m\u001b[43mtimeout\u001b[49m\u001b[43m,\u001b[49m\n\u001b[0;32m    211\u001b[0m \u001b[43m        \u001b[49m\u001b[43msource_address\u001b[49m\u001b[38;5;241;43m=\u001b[39;49m\u001b[43msource_address\u001b[49m\u001b[43m,\u001b[49m\n\u001b[0;32m    212\u001b[0m \u001b[43m    \u001b[49m\u001b[43m)\u001b[49m\n",
      "File \u001b[1;32mc:\\ProgramData\\anaconda3\\envs\\stt\\Lib\\contextlib.py:158\u001b[0m, in \u001b[0;36m_GeneratorContextManager.__exit__\u001b[1;34m(self, typ, value, traceback)\u001b[0m\n\u001b[0;32m    157\u001b[0m \u001b[38;5;28;01mtry\u001b[39;00m:\n\u001b[1;32m--> 158\u001b[0m     \u001b[38;5;28mself\u001b[39m\u001b[38;5;241m.\u001b[39mgen\u001b[38;5;241m.\u001b[39mthrow(typ, value, traceback)\n\u001b[0;32m    159\u001b[0m \u001b[38;5;28;01mexcept\u001b[39;00m \u001b[38;5;167;01mStopIteration\u001b[39;00m \u001b[38;5;28;01mas\u001b[39;00m exc:\n\u001b[0;32m    160\u001b[0m     \u001b[38;5;66;03m# Suppress StopIteration *unless* it's the same exception that\u001b[39;00m\n\u001b[0;32m    161\u001b[0m     \u001b[38;5;66;03m# was passed to throw().  This prevents a StopIteration\u001b[39;00m\n\u001b[0;32m    162\u001b[0m     \u001b[38;5;66;03m# raised inside the \"with\" statement from being suppressed.\u001b[39;00m\n",
      "File \u001b[1;32mc:\\ProgramData\\anaconda3\\envs\\stt\\Lib\\site-packages\\httpcore\\_exceptions.py:14\u001b[0m, in \u001b[0;36mmap_exceptions\u001b[1;34m(map)\u001b[0m\n\u001b[0;32m     13\u001b[0m     \u001b[38;5;28;01mif\u001b[39;00m \u001b[38;5;28misinstance\u001b[39m(exc, from_exc):\n\u001b[1;32m---> 14\u001b[0m         \u001b[38;5;28;01mraise\u001b[39;00m to_exc(exc) \u001b[38;5;28;01mfrom\u001b[39;00m\u001b[38;5;250m \u001b[39m\u001b[38;5;21;01mexc\u001b[39;00m\n\u001b[0;32m     15\u001b[0m \u001b[38;5;28;01mraise\u001b[39;00m\n",
      "\u001b[1;31mConnectError\u001b[0m: [WinError 10049] The requested address is not valid in its context",
      "\nThe above exception was the direct cause of the following exception:\n",
      "\u001b[1;31mConnectError\u001b[0m                              Traceback (most recent call last)",
      "Cell \u001b[1;32mIn[37], line 4\u001b[0m\n\u001b[0;32m      1\u001b[0m \u001b[38;5;28;01mimport\u001b[39;00m\u001b[38;5;250m \u001b[39m\u001b[38;5;21;01mollama\u001b[39;00m\n\u001b[0;32m      3\u001b[0m \u001b[38;5;66;03m# Tạo embedding cho văn bản\u001b[39;00m\n\u001b[1;32m----> 4\u001b[0m embedding \u001b[38;5;241m=\u001b[39m \u001b[43mollama\u001b[49m\u001b[38;5;241;43m.\u001b[39;49m\u001b[43membed\u001b[49m\u001b[43m(\u001b[49m\n\u001b[0;32m      5\u001b[0m \u001b[43m    \u001b[49m\u001b[43mmodel\u001b[49m\u001b[38;5;241;43m=\u001b[39;49m\u001b[38;5;124;43m'\u001b[39;49m\u001b[38;5;124;43mbge-m3\u001b[39;49m\u001b[38;5;124;43m'\u001b[39;49m\u001b[43m,\u001b[49m\n\u001b[0;32m      6\u001b[0m \u001b[43m    \u001b[49m\u001b[38;5;28;43minput\u001b[39;49m\u001b[38;5;241;43m=\u001b[39;49m\u001b[38;5;124;43m'\u001b[39;49m\u001b[38;5;124;43mTrí tuệ nhân tạo đang thay đổi thế giới.\u001b[39;49m\u001b[38;5;124;43m'\u001b[39;49m\n\u001b[0;32m      7\u001b[0m \u001b[43m)\u001b[49m\n\u001b[0;32m      9\u001b[0m \u001b[38;5;28mprint\u001b[39m(embedding[\u001b[38;5;124m'\u001b[39m\u001b[38;5;124membedding\u001b[39m\u001b[38;5;124m'\u001b[39m][:\u001b[38;5;241m10\u001b[39m])  \u001b[38;5;66;03m# In ra 10 giá trị đầu tiên của vector\u001b[39;00m\n",
      "File \u001b[1;32mc:\\ProgramData\\anaconda3\\envs\\stt\\Lib\\site-packages\\ollama\\_client.py:356\u001b[0m, in \u001b[0;36mClient.embed\u001b[1;34m(self, model, input, truncate, options, keep_alive)\u001b[0m\n\u001b[0;32m    348\u001b[0m \u001b[38;5;28;01mdef\u001b[39;00m\u001b[38;5;250m \u001b[39m\u001b[38;5;21membed\u001b[39m(\n\u001b[0;32m    349\u001b[0m   \u001b[38;5;28mself\u001b[39m,\n\u001b[0;32m    350\u001b[0m   model: \u001b[38;5;28mstr\u001b[39m \u001b[38;5;241m=\u001b[39m \u001b[38;5;124m'\u001b[39m\u001b[38;5;124m'\u001b[39m,\n\u001b[1;32m   (...)\u001b[0m\n\u001b[0;32m    354\u001b[0m   keep_alive: Optional[Union[\u001b[38;5;28mfloat\u001b[39m, \u001b[38;5;28mstr\u001b[39m]] \u001b[38;5;241m=\u001b[39m \u001b[38;5;28;01mNone\u001b[39;00m,\n\u001b[0;32m    355\u001b[0m ) \u001b[38;5;241m-\u001b[39m\u001b[38;5;241m>\u001b[39m EmbedResponse:\n\u001b[1;32m--> 356\u001b[0m   \u001b[38;5;28;01mreturn\u001b[39;00m \u001b[38;5;28;43mself\u001b[39;49m\u001b[38;5;241;43m.\u001b[39;49m\u001b[43m_request\u001b[49m\u001b[43m(\u001b[49m\n\u001b[0;32m    357\u001b[0m \u001b[43m    \u001b[49m\u001b[43mEmbedResponse\u001b[49m\u001b[43m,\u001b[49m\n\u001b[0;32m    358\u001b[0m \u001b[43m    \u001b[49m\u001b[38;5;124;43m'\u001b[39;49m\u001b[38;5;124;43mPOST\u001b[39;49m\u001b[38;5;124;43m'\u001b[39;49m\u001b[43m,\u001b[49m\n\u001b[0;32m    359\u001b[0m \u001b[43m    \u001b[49m\u001b[38;5;124;43m'\u001b[39;49m\u001b[38;5;124;43m/api/embed\u001b[39;49m\u001b[38;5;124;43m'\u001b[39;49m\u001b[43m,\u001b[49m\n\u001b[0;32m    360\u001b[0m \u001b[43m    \u001b[49m\u001b[43mjson\u001b[49m\u001b[38;5;241;43m=\u001b[39;49m\u001b[43mEmbedRequest\u001b[49m\u001b[43m(\u001b[49m\n\u001b[0;32m    361\u001b[0m \u001b[43m      \u001b[49m\u001b[43mmodel\u001b[49m\u001b[38;5;241;43m=\u001b[39;49m\u001b[43mmodel\u001b[49m\u001b[43m,\u001b[49m\n\u001b[0;32m    362\u001b[0m \u001b[43m      \u001b[49m\u001b[38;5;28;43minput\u001b[39;49m\u001b[38;5;241;43m=\u001b[39;49m\u001b[38;5;28;43minput\u001b[39;49m\u001b[43m,\u001b[49m\n\u001b[0;32m    363\u001b[0m \u001b[43m      \u001b[49m\u001b[43mtruncate\u001b[49m\u001b[38;5;241;43m=\u001b[39;49m\u001b[43mtruncate\u001b[49m\u001b[43m,\u001b[49m\n\u001b[0;32m    364\u001b[0m \u001b[43m      \u001b[49m\u001b[43moptions\u001b[49m\u001b[38;5;241;43m=\u001b[39;49m\u001b[43moptions\u001b[49m\u001b[43m,\u001b[49m\n\u001b[0;32m    365\u001b[0m \u001b[43m      \u001b[49m\u001b[43mkeep_alive\u001b[49m\u001b[38;5;241;43m=\u001b[39;49m\u001b[43mkeep_alive\u001b[49m\u001b[43m,\u001b[49m\n\u001b[0;32m    366\u001b[0m \u001b[43m    \u001b[49m\u001b[43m)\u001b[49m\u001b[38;5;241;43m.\u001b[39;49m\u001b[43mmodel_dump\u001b[49m\u001b[43m(\u001b[49m\u001b[43mexclude_none\u001b[49m\u001b[38;5;241;43m=\u001b[39;49m\u001b[38;5;28;43;01mTrue\u001b[39;49;00m\u001b[43m)\u001b[49m\u001b[43m,\u001b[49m\n\u001b[0;32m    367\u001b[0m \u001b[43m  \u001b[49m\u001b[43m)\u001b[49m\n",
      "File \u001b[1;32mc:\\ProgramData\\anaconda3\\envs\\stt\\Lib\\site-packages\\ollama\\_client.py:177\u001b[0m, in \u001b[0;36mClient._request\u001b[1;34m(self, cls, stream, *args, **kwargs)\u001b[0m\n\u001b[0;32m    173\u001b[0m         \u001b[38;5;28;01myield\u001b[39;00m \u001b[38;5;28mcls\u001b[39m(\u001b[38;5;241m*\u001b[39m\u001b[38;5;241m*\u001b[39mpart)\n\u001b[0;32m    175\u001b[0m   \u001b[38;5;28;01mreturn\u001b[39;00m inner()\n\u001b[1;32m--> 177\u001b[0m \u001b[38;5;28;01mreturn\u001b[39;00m \u001b[38;5;28mcls\u001b[39m(\u001b[38;5;241m*\u001b[39m\u001b[38;5;241m*\u001b[39m\u001b[38;5;28;43mself\u001b[39;49m\u001b[38;5;241;43m.\u001b[39;49m\u001b[43m_request_raw\u001b[49m\u001b[43m(\u001b[49m\u001b[38;5;241;43m*\u001b[39;49m\u001b[43margs\u001b[49m\u001b[43m,\u001b[49m\u001b[43m \u001b[49m\u001b[38;5;241;43m*\u001b[39;49m\u001b[38;5;241;43m*\u001b[39;49m\u001b[43mkwargs\u001b[49m\u001b[43m)\u001b[49m\u001b[38;5;241m.\u001b[39mjson())\n",
      "File \u001b[1;32mc:\\ProgramData\\anaconda3\\envs\\stt\\Lib\\site-packages\\ollama\\_client.py:118\u001b[0m, in \u001b[0;36mClient._request_raw\u001b[1;34m(self, *args, **kwargs)\u001b[0m\n\u001b[0;32m    117\u001b[0m \u001b[38;5;28;01mdef\u001b[39;00m\u001b[38;5;250m \u001b[39m\u001b[38;5;21m_request_raw\u001b[39m(\u001b[38;5;28mself\u001b[39m, \u001b[38;5;241m*\u001b[39margs, \u001b[38;5;241m*\u001b[39m\u001b[38;5;241m*\u001b[39mkwargs):\n\u001b[1;32m--> 118\u001b[0m   r \u001b[38;5;241m=\u001b[39m \u001b[38;5;28;43mself\u001b[39;49m\u001b[38;5;241;43m.\u001b[39;49m\u001b[43m_client\u001b[49m\u001b[38;5;241;43m.\u001b[39;49m\u001b[43mrequest\u001b[49m\u001b[43m(\u001b[49m\u001b[38;5;241;43m*\u001b[39;49m\u001b[43margs\u001b[49m\u001b[43m,\u001b[49m\u001b[43m \u001b[49m\u001b[38;5;241;43m*\u001b[39;49m\u001b[38;5;241;43m*\u001b[39;49m\u001b[43mkwargs\u001b[49m\u001b[43m)\u001b[49m\n\u001b[0;32m    119\u001b[0m   \u001b[38;5;28;01mtry\u001b[39;00m:\n\u001b[0;32m    120\u001b[0m     r\u001b[38;5;241m.\u001b[39mraise_for_status()\n",
      "File \u001b[1;32mc:\\ProgramData\\anaconda3\\envs\\stt\\Lib\\site-packages\\httpx\\_client.py:837\u001b[0m, in \u001b[0;36mClient.request\u001b[1;34m(self, method, url, content, data, files, json, params, headers, cookies, auth, follow_redirects, timeout, extensions)\u001b[0m\n\u001b[0;32m    822\u001b[0m     warnings\u001b[38;5;241m.\u001b[39mwarn(message, \u001b[38;5;167;01mDeprecationWarning\u001b[39;00m)\n\u001b[0;32m    824\u001b[0m request \u001b[38;5;241m=\u001b[39m \u001b[38;5;28mself\u001b[39m\u001b[38;5;241m.\u001b[39mbuild_request(\n\u001b[0;32m    825\u001b[0m     method\u001b[38;5;241m=\u001b[39mmethod,\n\u001b[0;32m    826\u001b[0m     url\u001b[38;5;241m=\u001b[39murl,\n\u001b[1;32m   (...)\u001b[0m\n\u001b[0;32m    835\u001b[0m     extensions\u001b[38;5;241m=\u001b[39mextensions,\n\u001b[0;32m    836\u001b[0m )\n\u001b[1;32m--> 837\u001b[0m \u001b[38;5;28;01mreturn\u001b[39;00m \u001b[38;5;28;43mself\u001b[39;49m\u001b[38;5;241;43m.\u001b[39;49m\u001b[43msend\u001b[49m\u001b[43m(\u001b[49m\u001b[43mrequest\u001b[49m\u001b[43m,\u001b[49m\u001b[43m \u001b[49m\u001b[43mauth\u001b[49m\u001b[38;5;241;43m=\u001b[39;49m\u001b[43mauth\u001b[49m\u001b[43m,\u001b[49m\u001b[43m \u001b[49m\u001b[43mfollow_redirects\u001b[49m\u001b[38;5;241;43m=\u001b[39;49m\u001b[43mfollow_redirects\u001b[49m\u001b[43m)\u001b[49m\n",
      "File \u001b[1;32mc:\\ProgramData\\anaconda3\\envs\\stt\\Lib\\site-packages\\httpx\\_client.py:926\u001b[0m, in \u001b[0;36mClient.send\u001b[1;34m(self, request, stream, auth, follow_redirects)\u001b[0m\n\u001b[0;32m    922\u001b[0m \u001b[38;5;28mself\u001b[39m\u001b[38;5;241m.\u001b[39m_set_timeout(request)\n\u001b[0;32m    924\u001b[0m auth \u001b[38;5;241m=\u001b[39m \u001b[38;5;28mself\u001b[39m\u001b[38;5;241m.\u001b[39m_build_request_auth(request, auth)\n\u001b[1;32m--> 926\u001b[0m response \u001b[38;5;241m=\u001b[39m \u001b[38;5;28;43mself\u001b[39;49m\u001b[38;5;241;43m.\u001b[39;49m\u001b[43m_send_handling_auth\u001b[49m\u001b[43m(\u001b[49m\n\u001b[0;32m    927\u001b[0m \u001b[43m    \u001b[49m\u001b[43mrequest\u001b[49m\u001b[43m,\u001b[49m\n\u001b[0;32m    928\u001b[0m \u001b[43m    \u001b[49m\u001b[43mauth\u001b[49m\u001b[38;5;241;43m=\u001b[39;49m\u001b[43mauth\u001b[49m\u001b[43m,\u001b[49m\n\u001b[0;32m    929\u001b[0m \u001b[43m    \u001b[49m\u001b[43mfollow_redirects\u001b[49m\u001b[38;5;241;43m=\u001b[39;49m\u001b[43mfollow_redirects\u001b[49m\u001b[43m,\u001b[49m\n\u001b[0;32m    930\u001b[0m \u001b[43m    \u001b[49m\u001b[43mhistory\u001b[49m\u001b[38;5;241;43m=\u001b[39;49m\u001b[43m[\u001b[49m\u001b[43m]\u001b[49m\u001b[43m,\u001b[49m\n\u001b[0;32m    931\u001b[0m \u001b[43m\u001b[49m\u001b[43m)\u001b[49m\n\u001b[0;32m    932\u001b[0m \u001b[38;5;28;01mtry\u001b[39;00m:\n\u001b[0;32m    933\u001b[0m     \u001b[38;5;28;01mif\u001b[39;00m \u001b[38;5;129;01mnot\u001b[39;00m stream:\n",
      "File \u001b[1;32mc:\\ProgramData\\anaconda3\\envs\\stt\\Lib\\site-packages\\httpx\\_client.py:954\u001b[0m, in \u001b[0;36mClient._send_handling_auth\u001b[1;34m(self, request, auth, follow_redirects, history)\u001b[0m\n\u001b[0;32m    951\u001b[0m request \u001b[38;5;241m=\u001b[39m \u001b[38;5;28mnext\u001b[39m(auth_flow)\n\u001b[0;32m    953\u001b[0m \u001b[38;5;28;01mwhile\u001b[39;00m \u001b[38;5;28;01mTrue\u001b[39;00m:\n\u001b[1;32m--> 954\u001b[0m     response \u001b[38;5;241m=\u001b[39m \u001b[38;5;28;43mself\u001b[39;49m\u001b[38;5;241;43m.\u001b[39;49m\u001b[43m_send_handling_redirects\u001b[49m\u001b[43m(\u001b[49m\n\u001b[0;32m    955\u001b[0m \u001b[43m        \u001b[49m\u001b[43mrequest\u001b[49m\u001b[43m,\u001b[49m\n\u001b[0;32m    956\u001b[0m \u001b[43m        \u001b[49m\u001b[43mfollow_redirects\u001b[49m\u001b[38;5;241;43m=\u001b[39;49m\u001b[43mfollow_redirects\u001b[49m\u001b[43m,\u001b[49m\n\u001b[0;32m    957\u001b[0m \u001b[43m        \u001b[49m\u001b[43mhistory\u001b[49m\u001b[38;5;241;43m=\u001b[39;49m\u001b[43mhistory\u001b[49m\u001b[43m,\u001b[49m\n\u001b[0;32m    958\u001b[0m \u001b[43m    \u001b[49m\u001b[43m)\u001b[49m\n\u001b[0;32m    959\u001b[0m     \u001b[38;5;28;01mtry\u001b[39;00m:\n\u001b[0;32m    960\u001b[0m         \u001b[38;5;28;01mtry\u001b[39;00m:\n",
      "File \u001b[1;32mc:\\ProgramData\\anaconda3\\envs\\stt\\Lib\\site-packages\\httpx\\_client.py:991\u001b[0m, in \u001b[0;36mClient._send_handling_redirects\u001b[1;34m(self, request, follow_redirects, history)\u001b[0m\n\u001b[0;32m    988\u001b[0m \u001b[38;5;28;01mfor\u001b[39;00m hook \u001b[38;5;129;01min\u001b[39;00m \u001b[38;5;28mself\u001b[39m\u001b[38;5;241m.\u001b[39m_event_hooks[\u001b[38;5;124m\"\u001b[39m\u001b[38;5;124mrequest\u001b[39m\u001b[38;5;124m\"\u001b[39m]:\n\u001b[0;32m    989\u001b[0m     hook(request)\n\u001b[1;32m--> 991\u001b[0m response \u001b[38;5;241m=\u001b[39m \u001b[38;5;28;43mself\u001b[39;49m\u001b[38;5;241;43m.\u001b[39;49m\u001b[43m_send_single_request\u001b[49m\u001b[43m(\u001b[49m\u001b[43mrequest\u001b[49m\u001b[43m)\u001b[49m\n\u001b[0;32m    992\u001b[0m \u001b[38;5;28;01mtry\u001b[39;00m:\n\u001b[0;32m    993\u001b[0m     \u001b[38;5;28;01mfor\u001b[39;00m hook \u001b[38;5;129;01min\u001b[39;00m \u001b[38;5;28mself\u001b[39m\u001b[38;5;241m.\u001b[39m_event_hooks[\u001b[38;5;124m\"\u001b[39m\u001b[38;5;124mresponse\u001b[39m\u001b[38;5;124m\"\u001b[39m]:\n",
      "File \u001b[1;32mc:\\ProgramData\\anaconda3\\envs\\stt\\Lib\\site-packages\\httpx\\_client.py:1027\u001b[0m, in \u001b[0;36mClient._send_single_request\u001b[1;34m(self, request)\u001b[0m\n\u001b[0;32m   1022\u001b[0m     \u001b[38;5;28;01mraise\u001b[39;00m \u001b[38;5;167;01mRuntimeError\u001b[39;00m(\n\u001b[0;32m   1023\u001b[0m         \u001b[38;5;124m\"\u001b[39m\u001b[38;5;124mAttempted to send an async request with a sync Client instance.\u001b[39m\u001b[38;5;124m\"\u001b[39m\n\u001b[0;32m   1024\u001b[0m     )\n\u001b[0;32m   1026\u001b[0m \u001b[38;5;28;01mwith\u001b[39;00m request_context(request\u001b[38;5;241m=\u001b[39mrequest):\n\u001b[1;32m-> 1027\u001b[0m     response \u001b[38;5;241m=\u001b[39m \u001b[43mtransport\u001b[49m\u001b[38;5;241;43m.\u001b[39;49m\u001b[43mhandle_request\u001b[49m\u001b[43m(\u001b[49m\u001b[43mrequest\u001b[49m\u001b[43m)\u001b[49m\n\u001b[0;32m   1029\u001b[0m \u001b[38;5;28;01massert\u001b[39;00m \u001b[38;5;28misinstance\u001b[39m(response\u001b[38;5;241m.\u001b[39mstream, SyncByteStream)\n\u001b[0;32m   1031\u001b[0m response\u001b[38;5;241m.\u001b[39mrequest \u001b[38;5;241m=\u001b[39m request\n",
      "File \u001b[1;32mc:\\ProgramData\\anaconda3\\envs\\stt\\Lib\\site-packages\\httpx\\_transports\\default.py:235\u001b[0m, in \u001b[0;36mHTTPTransport.handle_request\u001b[1;34m(self, request)\u001b[0m\n\u001b[0;32m    221\u001b[0m \u001b[38;5;28;01massert\u001b[39;00m \u001b[38;5;28misinstance\u001b[39m(request\u001b[38;5;241m.\u001b[39mstream, SyncByteStream)\n\u001b[0;32m    223\u001b[0m req \u001b[38;5;241m=\u001b[39m httpcore\u001b[38;5;241m.\u001b[39mRequest(\n\u001b[0;32m    224\u001b[0m     method\u001b[38;5;241m=\u001b[39mrequest\u001b[38;5;241m.\u001b[39mmethod,\n\u001b[0;32m    225\u001b[0m     url\u001b[38;5;241m=\u001b[39mhttpcore\u001b[38;5;241m.\u001b[39mURL(\n\u001b[1;32m   (...)\u001b[0m\n\u001b[0;32m    233\u001b[0m     extensions\u001b[38;5;241m=\u001b[39mrequest\u001b[38;5;241m.\u001b[39mextensions,\n\u001b[0;32m    234\u001b[0m )\n\u001b[1;32m--> 235\u001b[0m \u001b[43m\u001b[49m\u001b[38;5;28;43;01mwith\u001b[39;49;00m\u001b[43m \u001b[49m\u001b[43mmap_httpcore_exceptions\u001b[49m\u001b[43m(\u001b[49m\u001b[43m)\u001b[49m\u001b[43m:\u001b[49m\n\u001b[0;32m    236\u001b[0m \u001b[43m    \u001b[49m\u001b[43mresp\u001b[49m\u001b[43m \u001b[49m\u001b[38;5;241;43m=\u001b[39;49m\u001b[43m \u001b[49m\u001b[38;5;28;43mself\u001b[39;49m\u001b[38;5;241;43m.\u001b[39;49m\u001b[43m_pool\u001b[49m\u001b[38;5;241;43m.\u001b[39;49m\u001b[43mhandle_request\u001b[49m\u001b[43m(\u001b[49m\u001b[43mreq\u001b[49m\u001b[43m)\u001b[49m\n\u001b[0;32m    238\u001b[0m \u001b[38;5;28;01massert\u001b[39;00m \u001b[38;5;28misinstance\u001b[39m(resp\u001b[38;5;241m.\u001b[39mstream, typing\u001b[38;5;241m.\u001b[39mIterable)\n",
      "File \u001b[1;32mc:\\ProgramData\\anaconda3\\envs\\stt\\Lib\\contextlib.py:158\u001b[0m, in \u001b[0;36m_GeneratorContextManager.__exit__\u001b[1;34m(self, typ, value, traceback)\u001b[0m\n\u001b[0;32m    156\u001b[0m     value \u001b[38;5;241m=\u001b[39m typ()\n\u001b[0;32m    157\u001b[0m \u001b[38;5;28;01mtry\u001b[39;00m:\n\u001b[1;32m--> 158\u001b[0m     \u001b[38;5;28mself\u001b[39m\u001b[38;5;241m.\u001b[39mgen\u001b[38;5;241m.\u001b[39mthrow(typ, value, traceback)\n\u001b[0;32m    159\u001b[0m \u001b[38;5;28;01mexcept\u001b[39;00m \u001b[38;5;167;01mStopIteration\u001b[39;00m \u001b[38;5;28;01mas\u001b[39;00m exc:\n\u001b[0;32m    160\u001b[0m     \u001b[38;5;66;03m# Suppress StopIteration *unless* it's the same exception that\u001b[39;00m\n\u001b[0;32m    161\u001b[0m     \u001b[38;5;66;03m# was passed to throw().  This prevents a StopIteration\u001b[39;00m\n\u001b[0;32m    162\u001b[0m     \u001b[38;5;66;03m# raised inside the \"with\" statement from being suppressed.\u001b[39;00m\n\u001b[0;32m    163\u001b[0m     \u001b[38;5;28;01mreturn\u001b[39;00m exc \u001b[38;5;129;01mis\u001b[39;00m \u001b[38;5;129;01mnot\u001b[39;00m value\n",
      "File \u001b[1;32mc:\\ProgramData\\anaconda3\\envs\\stt\\Lib\\site-packages\\httpx\\_transports\\default.py:89\u001b[0m, in \u001b[0;36mmap_httpcore_exceptions\u001b[1;34m()\u001b[0m\n\u001b[0;32m     86\u001b[0m     \u001b[38;5;28;01mraise\u001b[39;00m\n\u001b[0;32m     88\u001b[0m message \u001b[38;5;241m=\u001b[39m \u001b[38;5;28mstr\u001b[39m(exc)\n\u001b[1;32m---> 89\u001b[0m \u001b[38;5;28;01mraise\u001b[39;00m mapped_exc(message) \u001b[38;5;28;01mfrom\u001b[39;00m\u001b[38;5;250m \u001b[39m\u001b[38;5;21;01mexc\u001b[39;00m\n",
      "\u001b[1;31mConnectError\u001b[0m: [WinError 10049] The requested address is not valid in its context"
     ]
    }
   ],
   "source": [
    "import ollama\n",
    "\n",
    "# Tạo embedding cho văn bản\n",
    "embedding = ollama.embed(\n",
    "    model='bge-m3',\n",
    "    input='Trí tuệ nhân tạo đang thay đổi thế giới.'\n",
    ")\n",
    "\n",
    "print(embedding['embedding'][:10])  # In ra 10 giá trị đầu tiên của vector\n"
   ]
  },
  {
   "cell_type": "code",
   "execution_count": null,
   "id": "711e4313",
   "metadata": {},
   "outputs": [],
   "source": []
  },
  {
   "cell_type": "code",
   "execution_count": null,
   "id": "fec29bfd",
   "metadata": {},
   "outputs": [],
   "source": []
  },
  {
   "cell_type": "code",
   "execution_count": null,
   "id": "cdd34f60",
   "metadata": {},
   "outputs": [],
   "source": []
  },
  {
   "cell_type": "code",
   "execution_count": 36,
   "id": "090344b9",
   "metadata": {},
   "outputs": [],
   "source": [
    "similar_frame_groups = groups\n"
   ]
  },
  {
   "cell_type": "code",
   "execution_count": 77,
   "id": "9ab2d22a",
   "metadata": {},
   "outputs": [
    {
     "data": {
      "text/plain": [
       "[(0, 472),\n",
       " (472, 1341),\n",
       " (1341, 1472),\n",
       " (1472, 1605),\n",
       " (1605, 2134),\n",
       " (2134, 2716),\n",
       " (2716, 3087),\n",
       " (3087, 3525),\n",
       " (3525, 4051),\n",
       " (4051, 4837),\n",
       " (4837, 5339),\n",
       " (5339, 5716),\n",
       " (5716, 6289),\n",
       " (6289, 6470),\n",
       " (6470, 7228),\n",
       " (7228, 7964),\n",
       " (7964, 8435),\n",
       " (8435, 9525),\n",
       " (9525, 9981),\n",
       " (9981, 10644),\n",
       " (10644, 10924),\n",
       " (10924, 11233),\n",
       " (11233, 12368),\n",
       " (12368, 13060),\n",
       " (13060, 13689),\n",
       " (13689, 14826),\n",
       " (14826, 15025),\n",
       " (15025, 15464),\n",
       " (15464, 16192),\n",
       " (16192, 16372),\n",
       " (16372, 16614)]"
      ]
     },
     "execution_count": 77,
     "metadata": {},
     "output_type": "execute_result"
    }
   ],
   "source": [
    "# group the start and end frames of each group\n",
    "def group_frame_ranges(groups, frame_list):\n",
    "    \"\"\"\n",
    "    Groups the start and end frames of each group.\n",
    "\n",
    "    Args:\n",
    "        groups (list of list): List of groups of similar frames.\n",
    "        frame_list (list of tuple): List of tuples containing start and end frames.\n",
    "\n",
    "    Returns:\n",
    "        list of tuple: List of tuples containing start and end frames for each group.\n",
    "    \"\"\"\n",
    "    grouped_ranges = []\n",
    "    \n",
    "    for group in groups:\n",
    "        if group:\n",
    "            start_frame = frame_list[group[0]][0]\n",
    "            end_frame = frame_list[group[-1]][1]\n",
    "            grouped_ranges.append((start_frame, end_frame))\n",
    "    \n",
    "    return grouped_ranges\n",
    "grouped_ranges = group_frame_ranges(similar_frame_groups, frame_list['frame_list'])\n",
    "grouped_ranges"
   ]
  },
  {
   "cell_type": "code",
   "execution_count": 78,
   "id": "b1de809b",
   "metadata": {},
   "outputs": [
    {
     "ename": "KeyboardInterrupt",
     "evalue": "",
     "output_type": "error",
     "traceback": [
      "\u001b[0;31m---------------------------------------------------------------------------\u001b[0m",
      "\u001b[0;31mKeyboardInterrupt\u001b[0m                         Traceback (most recent call last)",
      "Cell \u001b[0;32mIn[78], line 21\u001b[0m\n\u001b[1;32m     19\u001b[0m     \u001b[38;5;28;01mif\u001b[39;00m \u001b[38;5;129;01mnot\u001b[39;00m ret:\n\u001b[1;32m     20\u001b[0m         \u001b[38;5;28;01mbreak\u001b[39;00m\n\u001b[0;32m---> 21\u001b[0m     out\u001b[38;5;241m.\u001b[39mwrite(frame)\n\u001b[1;32m     23\u001b[0m out\u001b[38;5;241m.\u001b[39mrelease()\n\u001b[1;32m     24\u001b[0m cap\u001b[38;5;241m.\u001b[39mrelease()\n",
      "\u001b[0;31mKeyboardInterrupt\u001b[0m: "
     ]
    }
   ],
   "source": [
    "scene_path = \"scene_grouped\"\n",
    "import os\n",
    "if not os.path.exists(scene_path):\n",
    "    os.makedirs(scene_path)\n",
    "# Save the grouped scenes as clips\n",
    "num_clips = len(grouped_ranges)\n",
    "for i in range(num_clips):\n",
    "    start_frame, end_frame = grouped_ranges[i]\n",
    "    mid_frame = mid_frames[i]\n",
    "    cap = cv2.VideoCapture(video_path)\n",
    "    cap.set(cv2.CAP_PROP_POS_FRAMES, start_frame)\n",
    "    \n",
    "    out = cv2.VideoWriter(f\"{scene_path}/clip_{i}.mp4\", \n",
    "                          cv2.VideoWriter_fourcc(*'mp4v'), \n",
    "                          30, (int(cap.get(3)), int(cap.get(4))))\n",
    "    \n",
    "    for frame_num in range(start_frame, end_frame + 1):\n",
    "        ret, frame = cap.read()\n",
    "        if not ret:\n",
    "            break\n",
    "        out.write(frame)\n",
    "    \n",
    "    out.release()\n",
    "    cap.release()\n"
   ]
  },
  {
   "cell_type": "code",
   "execution_count": null,
   "id": "3a6e65d5",
   "metadata": {},
   "outputs": [],
   "source": [
    "import unicodedata\n",
    "\n",
    "def remove_vietnamese_accents(text):\n",
    "    \"\"\"\n",
    "    Convert Vietnamese text to unsigned characters by removing accents.\n",
    "\n",
    "    Args:\n",
    "        text (str): The input Vietnamese text.\n",
    "\n",
    "    Returns:\n",
    "        str: Text with accents removed.\n",
    "    \"\"\"\n",
    "    text = unicodedata.normalize('NFD', text)\n",
    "    text = ''.join(char for char in text if unicodedata.category(char) != 'Mn')\n",
    "    return text\n",
    "\n",
    "out_video_path = remove_vietnamese_accents(video_path)"
   ]
  },
  {
   "cell_type": "code",
   "execution_count": 81,
   "id": "9b3ee3dc",
   "metadata": {},
   "outputs": [
    {
     "data": {
      "text/plain": [
       "'Tiêu điểm_ SPF chỉ là con số  Cảnh báo từ những vụ bê bối kem chống nắng _ VTV24.mp4'"
      ]
     },
     "execution_count": 81,
     "metadata": {},
     "output_type": "execute_result"
    }
   ],
   "source": [
    "import os \n",
    "video_name  = os.path.basename(video_path)\n",
    "video_name"
   ]
  },
  {
   "cell_type": "code",
   "execution_count": 82,
   "id": "255411d9",
   "metadata": {},
   "outputs": [],
   "source": [
    "video_name = video_name.split('.')[0]  # Get the base name without extension\n",
    "# write to video, denote the start and end frames of each group\n",
    "def write_grouped_video(video_path, grouped_ranges, output_path):\n",
    "    \"\"\"\n",
    "    Writes a new video file with highlighted groups of frames.\n",
    "\n",
    "    Args:\n",
    "        video_path (str): Path to the input video file.\n",
    "        grouped_ranges (list of tuple): List of tuples containing start and end frames for each group.\n",
    "        output_path (str): Path to save the output video file.\n",
    "    \"\"\"\n",
    "    cap = cv2.VideoCapture(video_path)\n",
    "    fps = int(cap.get(cv2.CAP_PROP_FPS))\n",
    "    width = int(cap.get(cv2.CAP_PROP_FRAME_WIDTH))\n",
    "    height = int(cap.get(cv2.CAP_PROP_FRAME_HEIGHT))\n",
    "    \n",
    "    fourcc = cv2.VideoWriter_fourcc(*'mp4v')\n",
    "    out = cv2.VideoWriter(output_path, fourcc, fps, (width, height))\n",
    "\n",
    "    frame_count = 0\n",
    "    while True:\n",
    "        ret, frame = cap.read()\n",
    "        if not ret:\n",
    "            break\n",
    "        \n",
    "        for start, end in grouped_ranges:\n",
    "            if start <= frame_count <= end:\n",
    "                cv2.putText(frame, f\"Group: {start}-{end}\", (10, 30), cv2.FONT_HERSHEY_SIMPLEX, 1, (0, 255, 0), 2)\n",
    "        for start, end in frame_list['frame_list']:\n",
    "            if start <= frame_count <= end:\n",
    "                cv2.putText(frame, f\"Original: {start}-{end}\", (10, 70), cv2.FONT_HERSHEY_SIMPLEX, 1, (255, 0, 0), 2)\n",
    "        out.write(frame)\n",
    "        frame_count += 1\n",
    "\n",
    "    cap.release()\n",
    "    out.release()\n",
    "output_video_path = f\"grouped_video_{video_name}.mp4\"\n",
    "write_grouped_video(video_path, grouped_ranges, output_video_path)\n"
   ]
  },
  {
   "cell_type": "code",
   "execution_count": 80,
   "id": "9d36e944",
   "metadata": {},
   "outputs": [
    {
     "ename": "NameError",
     "evalue": "name 'video_name' is not defined",
     "output_type": "error",
     "traceback": [
      "\u001b[0;31m---------------------------------------------------------------------------\u001b[0m",
      "\u001b[0;31mNameError\u001b[0m                                 Traceback (most recent call last)",
      "Cell \u001b[0;32mIn[80], line 35\u001b[0m\n\u001b[1;32m     33\u001b[0m     cap\u001b[38;5;241m.\u001b[39mrelease()\n\u001b[1;32m     34\u001b[0m     out\u001b[38;5;241m.\u001b[39mrelease()\n\u001b[0;32m---> 35\u001b[0m original_video_path \u001b[38;5;241m=\u001b[39m \u001b[38;5;124mf\u001b[39m\u001b[38;5;124m\"\u001b[39m\u001b[38;5;124moriginal_video_\u001b[39m\u001b[38;5;132;01m{\u001b[39;00mvideo_name\u001b[38;5;132;01m}\u001b[39;00m\u001b[38;5;124m.mp4\u001b[39m\u001b[38;5;124m\"\u001b[39m\n\u001b[1;32m     36\u001b[0m write_original_video(video_path, frame_list, original_video_path)\n",
      "\u001b[0;31mNameError\u001b[0m: name 'video_name' is not defined"
     ]
    }
   ],
   "source": [
    "# write original video with original start and end frames\n",
    "\n",
    "def write_original_video(video_path, frame_list, output_path):\n",
    "    \"\"\"\n",
    "    Writes a new video file with original start and end frames highlighted.\n",
    "\n",
    "    Args:\n",
    "        video_path (str): Path to the input video file.\n",
    "        frame_list (list of tuple): List of tuples containing start and end frames.\n",
    "        output_path (str): Path to save the output video file.\n",
    "    \"\"\"\n",
    "    cap = cv2.VideoCapture(video_path)\n",
    "    fps = int(cap.get(cv2.CAP_PROP_FPS))\n",
    "    width = int(cap.get(cv2.CAP_PROP_FRAME_WIDTH))\n",
    "    height = int(cap.get(cv2.CAP_PROP_FRAME_HEIGHT))\n",
    "    \n",
    "    fourcc = cv2.VideoWriter_fourcc(*'mp4v')\n",
    "    out = cv2.VideoWriter(output_path, fourcc, fps, (width, height))\n",
    "\n",
    "    frame_count = 0\n",
    "    while True:\n",
    "        ret, frame = cap.read()\n",
    "        if not ret:\n",
    "            break\n",
    "        \n",
    "        for start, end in frame_list['frame_list']:\n",
    "            if start <= frame_count <= end:\n",
    "                cv2.putText(frame, f\"Original: {start}-{end}\", (10, 30), cv2.FONT_HERSHEY_SIMPLEX, 1, (0, 255, 0), 2)\n",
    "        \n",
    "        out.write(frame)\n",
    "        frame_count += 1\n",
    "\n",
    "    cap.release()\n",
    "    out.release()\n",
    "original_video_path = f\"original_video_{video_name}.mp4\"\n",
    "write_original_video(video_path, frame_list, original_video_path)"
   ]
  },
  {
   "cell_type": "code",
   "execution_count": null,
   "id": "fd467375",
   "metadata": {},
   "outputs": [],
   "source": []
  },
  {
   "cell_type": "code",
   "execution_count": null,
   "id": "39b0bfbe",
   "metadata": {},
   "outputs": [],
   "source": []
  },
  {
   "cell_type": "code",
   "execution_count": null,
   "id": "bd2d4061",
   "metadata": {},
   "outputs": [],
   "source": []
  }
 ],
 "metadata": {
  "kernelspec": {
   "display_name": "stt",
   "language": "python",
   "name": "python3"
  },
  "language_info": {
   "codemirror_mode": {
    "name": "ipython",
    "version": 3
   },
   "file_extension": ".py",
   "mimetype": "text/x-python",
   "name": "python",
   "nbconvert_exporter": "python",
   "pygments_lexer": "ipython3",
   "version": "3.11.11"
  }
 },
 "nbformat": 4,
 "nbformat_minor": 5
}
