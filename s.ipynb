{
 "cells": [
  {
   "cell_type": "code",
   "execution_count": 3,
   "id": "e1c29ee5",
   "metadata": {},
   "outputs": [
    {
     "name": "stdout",
     "output_type": "stream",
     "text": [
      "Requirement already satisfied: opencv-python in /opt/anaconda3/lib/python3.12/site-packages (4.11.0.86)\n",
      "Requirement already satisfied: numpy>=1.21.2 in /opt/anaconda3/lib/python3.12/site-packages (from opencv-python) (1.26.4)\n",
      "Requirement already satisfied: scenedetect in /opt/anaconda3/lib/python3.12/site-packages (0.6.5.2)\n",
      "Requirement already satisfied: Click in /opt/anaconda3/lib/python3.12/site-packages (from scenedetect) (8.1.7)\n",
      "Requirement already satisfied: numpy in /opt/anaconda3/lib/python3.12/site-packages (from scenedetect) (1.26.4)\n",
      "Requirement already satisfied: platformdirs in /opt/anaconda3/lib/python3.12/site-packages (from scenedetect) (3.10.0)\n",
      "Requirement already satisfied: tqdm in /opt/anaconda3/lib/python3.12/site-packages (from scenedetect) (4.65.2)\n"
     ]
    }
   ],
   "source": [
    "!pip install opencv-python\n",
    "!pip install scenedetect"
   ]
  },
  {
   "cell_type": "code",
   "execution_count": 3,
   "id": "f2c4fa33",
   "metadata": {},
   "outputs": [],
   "source": [
    "video_path = \"/Users/ducle/mSATA/videos/Tiêu điểm_ SPF chỉ là con số  Cảnh báo từ những vụ bê bối kem chống nắng _ VTV24.mp4\"\n",
    "video_path = r\"D:\\source_AI\\scene\\scene_grouping\\Các địa phương triển khai biện pháp ứng phó COVID-19 _ VTV24.mp4\""
   ]
  },
  {
   "cell_type": "code",
   "execution_count": 4,
   "id": "a3a94eaf",
   "metadata": {},
   "outputs": [
    {
     "name": "stderr",
     "output_type": "stream",
     "text": [
      "c:\\ProgramData\\anaconda3\\envs\\stt\\Lib\\site-packages\\tqdm\\auto.py:21: TqdmWarning: IProgress not found. Please update jupyter and ipywidgets. See https://ipywidgets.readthedocs.io/en/stable/user_install.html\n",
      "  from .autonotebook import tqdm as notebook_tqdm\n"
     ]
    }
   ],
   "source": [
    "from scenedetect import detect, ContentDetector\n",
    "import cv2\n",
    "def detect_scenes(video_path):\n",
    "    scene_list = detect(video_path, ContentDetector())\n",
    "    info = {}\n",
    "    # get total number of frames\n",
    "    cap = cv2.VideoCapture(video_path)\n",
    "    total_frames = int(cap.get(cv2.CAP_PROP_FRAME_COUNT))\n",
    "    # get duration of video\n",
    "    fps = int(cap.get(cv2.CAP_PROP_FPS))\n",
    "    duration = total_frames / fps\n",
    "    info['total_frames'] = total_frames\n",
    "    info['duration'] = duration\n",
    "    # get scene list\n",
    "    frame_list = []\n",
    "    time_list = []\n",
    "    for i, scene in enumerate(scene_list):\n",
    "        start_frame = scene[0].get_frames()\n",
    "        end_frame = scene[1].get_frames()\n",
    "        start_time = scene[0].get_timecode()\n",
    "        end_time = scene[1].get_timecode()\n",
    "        frame_list.append((start_frame, end_frame))\n",
    "        time_list.append((start_time, end_time))\n",
    "    info['frame_list'] = frame_list\n",
    "    info['time_list'] = time_list\n",
    "    \n",
    "    return info"
   ]
  },
  {
   "cell_type": "code",
   "execution_count": 5,
   "id": "cfd64552",
   "metadata": {},
   "outputs": [],
   "source": [
    "frame_list = detect_scenes(video_path)\n",
    "mid_frames = [(start + end) // 2 for start, end in frame_list['frame_list']]"
   ]
  },
  {
   "cell_type": "code",
   "execution_count": 6,
   "id": "4eade12b",
   "metadata": {},
   "outputs": [],
   "source": [
    "# split into clip\n",
    "import cv2 \n",
    "import os\n",
    "scene_path = \"scene\"\n",
    "if not os.path.exists(scene_path):\n",
    "    os.makedirs(scene_path)\n",
    "\n",
    "num_clips = len(frame_list['frame_list'])\n",
    "for i in range(num_clips):\n",
    "    start_frame, end_frame = frame_list['frame_list'][i]\n",
    "    mid_frame = mid_frames[i]\n",
    "    cap = cv2.VideoCapture(video_path)\n",
    "    cap.set(cv2.CAP_PROP_POS_FRAMES, start_frame)\n",
    "    \n",
    "    out = cv2.VideoWriter(f\"{scene_path}/clip_{i}.mp4\", \n",
    "                          cv2.VideoWriter_fourcc(*'mp4v'), \n",
    "                          30, (int(cap.get(3)), int(cap.get(4))))\n",
    "    \n",
    "    for frame_num in range(start_frame, end_frame + 1):\n",
    "        ret, frame = cap.read()\n",
    "        if not ret:\n",
    "            break\n",
    "        out.write(frame)\n",
    "    \n",
    "    out.release()\n",
    "    cap.release()\n"
   ]
  },
  {
   "cell_type": "code",
   "execution_count": 7,
   "id": "bafdd992",
   "metadata": {},
   "outputs": [
    {
     "name": "stdout",
     "output_type": "stream",
     "text": [
      "Requirement already satisfied: transformers in c:\\programdata\\anaconda3\\envs\\stt\\lib\\site-packages (4.51.3)\n",
      "Requirement already satisfied: filelock in c:\\programdata\\anaconda3\\envs\\stt\\lib\\site-packages (from transformers) (3.16.1)\n",
      "Requirement already satisfied: huggingface-hub<1.0,>=0.30.0 in c:\\programdata\\anaconda3\\envs\\stt\\lib\\site-packages (from transformers) (0.30.1)\n",
      "Requirement already satisfied: numpy>=1.17 in c:\\programdata\\anaconda3\\envs\\stt\\lib\\site-packages (from transformers) (1.26.4)\n",
      "Requirement already satisfied: packaging>=20.0 in c:\\programdata\\anaconda3\\envs\\stt\\lib\\site-packages (from transformers) (24.2)\n",
      "Requirement already satisfied: pyyaml>=5.1 in c:\\programdata\\anaconda3\\envs\\stt\\lib\\site-packages (from transformers) (6.0.2)\n",
      "Requirement already satisfied: regex!=2019.12.17 in c:\\programdata\\anaconda3\\envs\\stt\\lib\\site-packages (from transformers) (2024.11.6)\n",
      "Requirement already satisfied: requests in c:\\programdata\\anaconda3\\envs\\stt\\lib\\site-packages (from transformers) (2.32.3)\n",
      "Requirement already satisfied: tokenizers<0.22,>=0.21 in c:\\programdata\\anaconda3\\envs\\stt\\lib\\site-packages (from transformers) (0.21.0)\n",
      "Requirement already satisfied: safetensors>=0.4.3 in c:\\programdata\\anaconda3\\envs\\stt\\lib\\site-packages (from transformers) (0.5.2)\n",
      "Requirement already satisfied: tqdm>=4.27 in c:\\programdata\\anaconda3\\envs\\stt\\lib\\site-packages (from transformers) (4.67.1)\n",
      "Requirement already satisfied: fsspec>=2023.5.0 in c:\\programdata\\anaconda3\\envs\\stt\\lib\\site-packages (from huggingface-hub<1.0,>=0.30.0->transformers) (2024.10.0)\n",
      "Requirement already satisfied: typing-extensions>=3.7.4.3 in c:\\programdata\\anaconda3\\envs\\stt\\lib\\site-packages (from huggingface-hub<1.0,>=0.30.0->transformers) (4.13.2)\n",
      "Requirement already satisfied: colorama in c:\\programdata\\anaconda3\\envs\\stt\\lib\\site-packages (from tqdm>=4.27->transformers) (0.4.6)\n",
      "Requirement already satisfied: charset-normalizer<4,>=2 in c:\\programdata\\anaconda3\\envs\\stt\\lib\\site-packages (from requests->transformers) (3.4.0)\n",
      "Requirement already satisfied: idna<4,>=2.5 in c:\\programdata\\anaconda3\\envs\\stt\\lib\\site-packages (from requests->transformers) (3.10)\n",
      "Requirement already satisfied: urllib3<3,>=1.21.1 in c:\\programdata\\anaconda3\\envs\\stt\\lib\\site-packages (from requests->transformers) (2.3.0)\n",
      "Requirement already satisfied: certifi>=2017.4.17 in c:\\programdata\\anaconda3\\envs\\stt\\lib\\site-packages (from requests->transformers) (2024.8.30)\n"
     ]
    }
   ],
   "source": [
    "!pip install transformers"
   ]
  },
  {
   "cell_type": "code",
   "execution_count": null,
   "id": "90ef4a54",
   "metadata": {},
   "outputs": [],
   "source": []
  },
  {
   "cell_type": "code",
   "execution_count": 31,
   "id": "f43c19a0",
   "metadata": {},
   "outputs": [],
   "source": [
    "from transformers import CLIPProcessor, CLIPModel\n",
    "from PIL import Image\n",
    "import torch\n",
    "import numpy as np\n",
    "\n",
    "# Load the CLIP model and processor once\n",
    "clip_model = CLIPModel.from_pretrained(\"openai/clip-vit-large-patch14\")\n",
    "clip_processor = CLIPProcessor.from_pretrained(\"openai/clip-vit-large-patch14\")\n",
    "\n",
    "def encode_frame_to_vector(frame):\n",
    "    \"\"\"\n",
    "    Encodes an image frame into a vector using Hugging Face's CLIP model.\n",
    "\n",
    "    Args:\n",
    "        frame (PIL.Image.Image or np.ndarray): The input image frame.\n",
    "\n",
    "    Returns:\n",
    "        torch.Tensor: The image embedding vector (shape: [1, embedding_dim]).\n",
    "    \"\"\"\n",
    "    # Convert NumPy array to PIL Image if needed\n",
    "    if isinstance(frame, np.ndarray):\n",
    "        frame = Image.fromarray(frame)\n",
    "\n",
    "    # Preprocess the frame\n",
    "    inputs = clip_processor(images=frame, return_tensors=\"pt\")\n",
    "\n",
    "    # Get image embedding\n",
    "    with torch.no_grad():\n",
    "        image_features = clip_model.get_image_features(**inputs)\n",
    "\n",
    "    # Normalize the vector\n",
    "    image_features = image_features / image_features.norm(p=2, dim=-1, keepdim=True)\n",
    "\n",
    "    return image_features\n"
   ]
  },
  {
   "cell_type": "code",
   "execution_count": 32,
   "id": "cc209995",
   "metadata": {},
   "outputs": [
    {
     "name": "stdout",
     "output_type": "stream",
     "text": [
      "Time taken to process 26 frames: 11.57 seconds\n"
     ]
    }
   ],
   "source": [
    "features = []\n",
    "import cv2\n",
    "def extract_frame(video_path, frame_number):\n",
    "    \"\"\"\n",
    "    Extracts a specific frame from a video file.\n",
    "\n",
    "    Args:\n",
    "        video_path (str): Path to the video file.\n",
    "        frame_number (int): The frame number to extract.\n",
    "\n",
    "    Returns:\n",
    "        np.ndarray: The extracted frame as a NumPy array.\n",
    "    \"\"\"\n",
    "    cap = cv2.VideoCapture(video_path)\n",
    "    cap.set(cv2.CAP_PROP_POS_FRAMES, frame_number)\n",
    "    ret, frame = cap.read()\n",
    "    cap.release()\n",
    "    \n",
    "    if not ret:\n",
    "        raise ValueError(f\"Could not read frame {frame_number} from video.\")\n",
    "    \n",
    "    return cv2.cvtColor(frame, cv2.COLOR_BGR2RGB)\n",
    "import time \n",
    "start_time = time.time()\n",
    "# Extract mid frames and encode them to vectors\n",
    "for frame_number in mid_frames:\n",
    "    frame = extract_frame(video_path, frame_number)\n",
    "    feature = encode_frame_to_vector(frame)\n",
    "    features.append(feature)\n",
    "print(f\"Time taken to process {len(mid_frames)} frames: {time.time() - start_time:.2f} seconds\")\n"
   ]
  },
  {
   "cell_type": "code",
   "execution_count": 33,
   "id": "010972b9",
   "metadata": {},
   "outputs": [
    {
     "data": {
      "image/png": "[encoded data removed]",
      "text/plain": [
       "<Figure size 640x480 with 2 Axes>"
      ]
     },
     "metadata": {},
     "output_type": "display_data"
    }
   ],
   "source": [
    "import matplotlib.pyplot as plt\n",
    "\n",
    "# show the correlation between the features by cosine similarity\n",
    "def cosine_similarity(a, b):\n",
    "    \"\"\"\n",
    "    Computes the cosine similarity between two vectors.\n",
    "\n",
    "    Args:\n",
    "        a (torch.Tensor): First vector.\n",
    "        b (torch.Tensor): Second vector.\n",
    "\n",
    "    Returns:\n",
    "        float: Cosine similarity value.\n",
    "    \"\"\"\n",
    "    return torch.nn.functional.cosine_similarity(a, b).item()\n",
    "\n",
    "def plot_similarity_matrix(features):\n",
    "    \"\"\"\n",
    "    Plots a similarity matrix for the given features.\n",
    "\n",
    "    Args:\n",
    "        features (list of torch.Tensor): List of feature vectors.\n",
    "    \"\"\"\n",
    "    num_features = len(features)\n",
    "    similarity_matrix = np.zeros((num_features, num_features))\n",
    "\n",
    "    for i in range(num_features):\n",
    "        for j in range(num_features):\n",
    "            similarity_matrix[i, j] = cosine_similarity(features[i], features[j])\n",
    "\n",
    "    plt.imshow(similarity_matrix, cmap='hot', interpolation='nearest')\n",
    "    plt.colorbar()\n",
    "    plt.title('Cosine Similarity Matrix')\n",
    "    plt.xlabel('Frame Index')\n",
    "    plt.ylabel('Frame Index')\n",
    "    plt.show()\n",
    "    return similarity_matrix\n",
    "similarity_matrix = plot_similarity_matrix(features)"
   ]
  },
  {
   "cell_type": "code",
   "execution_count": 34,
   "id": "68c1649f",
   "metadata": {},
   "outputs": [],
   "source": [
    "def convert_timecode_to_seconds(timecode):\n",
    "    \"\"\"\n",
    "    Converts a timecode string to seconds.\n",
    "\n",
    "    Args:\n",
    "        timecode (str): Timecode in the format 'HH:MM:SS.mmm'.\n",
    "\n",
    "    Returns:\n",
    "        float: Time in seconds.\n",
    "    \"\"\"\n",
    "    parts = timecode.split(':')\n",
    "    hours = int(parts[0])\n",
    "    minutes = int(parts[1])\n",
    "    seconds = float(parts[2])\n",
    "    \n",
    "    return hours * 3600 + minutes * 60 + seconds"
   ]
  },
  {
   "cell_type": "code",
   "execution_count": 35,
   "id": "53d694c8",
   "metadata": {},
   "outputs": [
    {
     "data": {
      "text/plain": [
       "[(0.0, 6.28), (6.28, 14.04), (14.04, 20.24), (20.24, 29.64), (29.64, 31.16)]"
      ]
     },
     "execution_count": 35,
     "metadata": {},
     "output_type": "execute_result"
    }
   ],
   "source": [
    "time_list = frame_list['time_list']\n",
    "\n",
    "# Convert time_list to seconds\n",
    "time_list_seconds = [(convert_timecode_to_seconds(start), convert_timecode_to_seconds(end)) for start, end in time_list]\n",
    "# Create a DataFrame to store the results\n",
    "time_list_seconds[0:5]  # Display the first 5 time intervals for brevity"
   ]
  },
  {
   "cell_type": "code",
   "execution_count": 37,
   "id": "0ec68b5c",
   "metadata": {},
   "outputs": [
    {
     "data": {
      "image/png": "[encoded data removed]",
      "text/plain": [
       "<Figure size 640x480 with 1 Axes>"
      ]
     },
     "metadata": {},
     "output_type": "display_data"
    },
    {
     "data": {
      "text/plain": [
       "Text(0, 0.5, 'Decay Value')"
      ]
     },
     "execution_count": 37,
     "metadata": {},
     "output_type": "execute_result"
    },
    {
     "data": {
      "image/png": "[encoded data removed]",
      "text/plain": [
       "<Figure size 1000x500 with 1 Axes>"
      ]
     },
     "metadata": {},
     "output_type": "display_data"
    }
   ],
   "source": [
    "# compute a eˆ(-x), x is the time difference between two frames\n",
    "def compute_exponential_decay(time_list):\n",
    "    \"\"\"\n",
    "    Computes an exponential decay based on the time differences between frames.\n",
    "\n",
    "    Args:\n",
    "        features (list of torch.Tensor): List of feature vectors.\n",
    "        time_list (list of tuples): List of tuples containing start and end times for each frame.\n",
    "\n",
    "    Returns:\n",
    "        list: Exponential decay values for each frame.\n",
    "    \"\"\"\n",
    "    decay_values = []\n",
    "    for i in range(len(time_list) ):\n",
    "        time_diff = (time_list[i ][1] - time_list[i][0])  # end - start\n",
    "        decay_value = float(np.exp(-time_diff)) * 10 \n",
    "        decay_values.append(decay_value)\n",
    "    return decay_values\n",
    "decay_values = compute_exponential_decay(time_list_seconds)\n",
    "# Plot the decay values\n",
    "plt.plot(decay_values, marker='o')\n",
    "# plot the time above the decay values\n",
    "for i, decay_value in enumerate(decay_values):\n",
    "    plt.text(i, decay_value, f\"{time_list_seconds[i][1]-time_list_seconds[i][0]:.2f}\", fontsize=8, ha='center')\n",
    "plt.title('Exponential Decay Values Over Time')\n",
    "# plot similarity matrix\n",
    "sim_consecutive = []\n",
    "for i in range(len(features)):\n",
    "    sim_consecutive.append(cosine_similarity(features[i], features[i - 1]))\n",
    "plt.plot(sim_consecutive, marker='x', color='orange', label='Cosine Similarity (Consecutive Frames)')\n",
    "plt.legend()\n",
    "plt.xlabel('Frame Index')\n",
    "plt.ylabel('Decay Value / Cosine Similarity')\n",
    "plt.xticks(range(len(decay_values)), range(len(decay_values)))\n",
    "# plot the segment score:= decay_value * cosine_similarity \n",
    "segment_scores = [decay_values[i] + sim_consecutive[i] for i in range(len(sim_consecutive))]\n",
    "# apply e^(-x) to the segment scores\n",
    "segment_scores = [np.exp(-score) for score in segment_scores]\n",
    "# plot bar\n",
    "plt.bar(range(len(segment_scores)), segment_scores, color='green', label='Segment Score (Decay * Cosine Similarity)')\n",
    "plt.legend()\n",
    "plt.title('Exponential Decay and Cosine Similarity')\n",
    "plt.grid()\n",
    "plt.tight_layout()\n",
    "plt.show()\n",
    "plt.figure(figsize=(10, 5))\n",
    "plt.title('Exponential Decay Values')\n",
    "plt.xlabel('Frame Index')\n",
    "plt.ylabel('Decay Value')"
   ]
  },
  {
   "cell_type": "code",
   "execution_count": 14,
   "id": "cf17d501",
   "metadata": {},
   "outputs": [],
   "source": [
    "# [(end-start) for start, end in time_list_seconds]"
   ]
  },
  {
   "cell_type": "code",
   "execution_count": null,
   "id": "7bb68030",
   "metadata": {},
   "outputs": [
    {
     "data": {
      "text/plain": [
       "[[0, 1, 2, 3],\n",
       " [4],\n",
       " [5],\n",
       " [6],\n",
       " [7],\n",
       " [8, 9],\n",
       " [10],\n",
       " [11, 12],\n",
       " [13],\n",
       " [14],\n",
       " [15, 16, 17, 18],\n",
       " [19],\n",
       " [20, 21, 22]]"
      ]
     },
     "execution_count": 15,
     "metadata": {},
     "output_type": "execute_result"
    }
   ],
   "source": [
    "# group  consecutive frames with cosine similarity > 0.8\n",
    "import numpy as np\n",
    "def group_similar_frames(features, threshold=0.8, max_gap=1):\n",
    "    \n",
    "    groups = list()\n",
    "    c_group = list()\n",
    "    idx = -1\n",
    "    while(idx<len(features)-1):\n",
    "        idx+=1\n",
    "\n",
    "        if len(c_group)==0:\n",
    "            c_group.append(idx)\n",
    "            continue \n",
    "        # sim = np.dot(features[idx], features[idx-1].reshape(-1))\n",
    "        sim =  features[idx]\n",
    "        if sim>=threshold:\n",
    "            c_group.append(idx)\n",
    "            continue \n",
    "        else:\n",
    "            flag = False\n",
    "            for i in range(max_gap):\n",
    "                for j in c_group:\n",
    "                    if not i+idx>=len(features): \n",
    "                        # _sim = np.dot(features[j],features[idx+i].reshape(-1))\n",
    "                        _sim =  features[idx]\n",
    "                        \n",
    "                        if _sim>=threshold:\n",
    "                            flag = True \n",
    "                            for ii in range(i):\n",
    "                   \tmodified:   Q_learning.ipynb\n",
    "\tnew file:   checkpoint.pth             idx+=ii\n",
    "                                c_group.append(idx)\n",
    "                            break \n",
    "                \n",
    "                if flag:\n",
    "                    break \n",
    "            if not flag:\n",
    "                # print(groups)\n",
    "                groups.append(c_group)\n",
    "                c_group = list()\n",
    "                c_group.append(idx)\n",
    "    return groups\n",
    "features = segment_scores\n",
    "groups = group_similar_frames(features, threshold=0.25, max_gap=1) \n",
    "groups                  \n",
    "            \n",
    "            \n",
    "\n"
   ]
  },
  {
   "cell_type": "code",
   "execution_count": null,
   "id": "4e70e6cd",
   "metadata": {},
   "outputs": [],
   "source": [
    "\n",
    "\n",
    "\n",
    "from ollama import Client \n",
    "\n",
    "device = \"cuda:1\"\n",
    "client_1 = Client(\n",
    "    host='http://localhost:11434',\n",
    "    headers={'x-some-header': 'some-value'}, timeout=15,\n",
    ")\n",
    "\n",
    "\n",
    "def gemma3_captioning(client, img_path):\n",
    "  \n",
    "    prompt = 'Describe this extracted frame, no more than 3 words, no redundant words:'\n",
    "    try:\n",
    "        res = clien\tmodified:   Q_learning.ipynb\n",
    "\tnew file:   checkpoint.ptht.chat(\n",
    "            model=\"gemma3:4b\",\n",
    "            messages=[\n",
    "                {\n",
    "                    'role': 'user',\n",
    "                    'content': prompt,\n",
    "                    'images': [img_path]\n",
    "                }\n",
    "            ],\n",
    "   \n",
    "        )\n",
    "    except Exception as e:\n",
    "        print(e)\n",
    "        return None\n",
    "    return res['message']['content']\n",
    "\n",
    "def gemma3_summarization(client, text, audio):\n",
    "    \"\"\"\n",
    "    Summarizes the given text using the Gemma3 model.\n",
    "    \n",
    "    Args:\n",
    "        client (Client): Ollama client instance.\n",
    "        text (str): Text to summarize.\n",
    "    \n",
    "    Returns:\n",
    "        str: Summarized text.\n",
    "    \"\"\"\n",
    "    prompt = f'Tóm tắt các phân cảnh trong video này để con người dễ đọc hơn, bạn được cung cấp đoạn tóm tắt audio sau để dễ tóm tắt phân cảnh hơn , {audio} \\n:'\n",
    "    try:\n",
    "        res = client.chat(\n",
    "            model=\"gemma3:4b\",\n",
    "            messages=[\n",
    "                {\n",
    "                    'role': 'user',\n",
    "                    'content': prompt + '\\n' + text\n",
    "                }\n",
    "            ],\n",
    "        )\n",
    "    except Exception as e:\n",
    "        print(e)\n",
    "        return None\n",
    "    return res['message']['content']"
   ]
  },
  {
   "cell_type": "code",
   "execution_count": 17,
   "id": "b4a9280a",
   "metadata": {},
   "outputs": [],
   "source": [
    "# save frame captions to a image file\n",
    "import os\n",
    "import cv2 \n",
    "\n",
    "cap = cv2.VideoCapture(video_path)\n",
    "file_path_list = []\n",
    "def save_frame(frame_number, output_dir):\n",
    "    \"\"\"\n",
    "    Saves a specific frame from the video to an image file.\n",
    "\n",
    "    Args:\n",
    "        frame_number (int): The frame number to save.\n",
    "        output_dir (str): Directory to save the image.\n",
    "    \"\"\"\n",
    "    cap.set(cv2.CAP_PROP_POS_FRAMES, frame_number)\n",
    "    ret, frame = cap.read()\n",
    "    if ret:\n",
    "        file_path = os.path.join(output_dir, f\"frame_{frame_number}.jpg\")\n",
    "        cv2.imwrite(file_path, frame)\n",
    "        return file_path\n",
    "    else:\n",
    "        raise ValueError(f\"Could not read frame {frame_number} from video.\")\n",
    "\n",
    "for i, frame_number in enumerate(mid_frames):\n",
    "    output_dir = \"frames\"\n",
    "    if not os.path.exists(output_dir):\n",
    "        os.makedirs(output_dir)\n",
    "    file_path = save_frame(frame_number, output_dir)\n",
    "    file_path_list.append(file_path)\n",
    "    "
   ]
  },
  {
   "cell_type": "code",
   "execution_count": 24,
   "id": "3302c5be",
   "metadata": {},
   "outputs": [
    {
     "name": "stdout",
     "output_type": "stream",
     "text": [
      "Caption for frames\\frame_78.jpg: News studio scene\n",
      "Caption for frames\\frame_254.jpg: Woman on screen\n",
      "Caption for frames\\frame_428.jpg: News studio scene\n",
      "Caption for frames\\frame_623.jpg: News presenter, cityscape.\n",
      "Caption for frames\\frame_760.jpg: COVID-19 prevention signs\n",
      "Caption for frames\\frame_813.jpg: COVID-19 prevention signs\n",
      "Caption for frames\\frame_871.jpg: Doctor, medical setting\n",
      "Caption for frames\\frame_922.jpg: Cleaning, disinfection, surface.\n",
      "Caption for frames\\frame_981.jpg: Inpatient information.\n",
      "Caption for frames\\frame_1055.jpg: Healthcare worker support\n",
      "Caption for frames\\frame_1124.jpg: Doctor examining patient\n",
      "Caption for frames\\frame_1185.jpg: Hospital patient care\n",
      "Caption for frames\\frame_1254.jpg: Doctor in PPE\n",
      "Caption for frames\\frame_1317.jpg: Hospital patient scene\n",
      "Caption for frames\\frame_1377.jpg: Empty corridor space.\n",
      "Caption for frames\\frame_1431.jpg: Testing nasal swab\n",
      "Caption for frames\\frame_1601.jpg: News broadcast scene\n",
      "Caption for frames\\frame_1824.jpg: Airport arrival scene\n",
      "Caption for frames\\frame_1942.jpg: Airport passenger crowd\n",
      "Caption for frames\\frame_2020.jpg: Sports arena building\n",
      "Caption for frames\\frame_2079.jpg: Train, red, station.\n",
      "Caption for frames\\frame_2145.jpg: Train station people\n",
      "Caption for frames\\frame_2232.jpg: People, blue backdrop\n",
      "Caption for frames\\frame_2296.jpg: Man, child, train\n",
      "Caption for frames\\frame_2488.jpg: News studio shot\n",
      "Caption for frames\\frame_2858.jpg: News anchor speaking.\n"
     ]
    }
   ],
   "source": [
    "caption_list = list()\n",
    "for file_path in file_path_list:\n",
    "    caption = gemma3_captioning(client_1, file_path)\n",
    "    if caption:\n",
    "        print(f\"Caption for {file_path}: {caption}\")\n",
    "    else:\n",
    "        print(f\"Failed to get caption for {file_path}\")\n",
    "    caption_list.append(caption)    \n"
   ]
  },
  {
   "cell_type": "code",
   "execution_count": 42,
   "id": "785e2e41",
   "metadata": {},
   "outputs": [],
   "source": [
    "# group captions based on the groups\n",
    "grouped_captions = []\n",
    "for group in groups:\n",
    "    group_captions = [caption_list[i] for i in group if i < len(caption_list)]\n",
    "    grouped_captions.append(\"; \".join(group_captions))\n",
    "# contextualize the captions with time stamps\n",
    "grouped_captions_with_time = []\n",
    "for i, group in enumerate(groups):\n",
    "    start_time = time_list_seconds[group[0]][0]\n",
    "    end_time = time_list_seconds[group[-1]][1]\n",
    "    caption = grouped_captions[i]\n",
    "    grouped_captions_with_time.append(f\"[{start_time:.2f}s - {end_time:.2f}s] {caption}\")\n",
    "# Summarize the grouped captions"
   ]
  },
  {
   "cell_type": "code",
   "execution_count": 43,
   "id": "4ad7ef66",
   "metadata": {},
   "outputs": [
    {
     "data": {
      "text/plain": [
       "['[0.00s - 29.64s] News studio scene; Woman on screen; News studio scene; News presenter, cityscape.',\n",
       " '[29.64s - 31.16s] COVID-19 prevention signs',\n",
       " '[31.16s - 33.88s] COVID-19 prevention signs',\n",
       " '[33.88s - 35.84s] Doctor, medical setting',\n",
       " '[35.84s - 37.96s] Cleaning, disinfection, surface.',\n",
       " '[37.96s - 43.88s] Inpatient information.; Healthcare worker support',\n",
       " '[43.88s - 46.08s] Doctor examining patient',\n",
       " '[46.08s - 51.60s] Hospital patient care; Doctor in PPE',\n",
       " '[51.60s - 53.76s] Hospital patient scene',\n",
       " '[53.76s - 56.44s] Empty corridor space.',\n",
       " '[56.44s - 79.48s] Testing nasal swab; News broadcast scene; Airport arrival scene; Airport passenger crowd',\n",
       " '[79.48s - 82.16s] Sports arena building',\n",
       " '[82.16s - 91.16s] Train, red, station.; Train station people; People, blue backdrop']"
      ]
     },
     "execution_count": 43,
     "metadata": {},
     "output_type": "execute_result"
    }
   ],
   "source": [
    "grouped_captions_with_time"
   ]
  },
  {
   "cell_type": "code",
   "execution_count": 46,
   "id": "ef1bacd5",
   "metadata": {},
   "outputs": [
    {
     "name": "stdout",
     "output_type": "stream",
     "text": [
      "Summary of grouped captions: Dưới đây là bản tóm tắt các phân cảnh trong video, được trình bày dễ đọc hơn:\n",
      "\n",
      "**Phần mở đầu & Thông tin chung (0.00 - 35.84s):**\n",
      "\n",
      "*   **Phỏng vấn & Bối cảnh:** Đoạn mở đầu với studio tin tức, phỏng vấn và hình ảnh thành phố.\n",
      "*   **Biển báo phòng chống COVID-19:** Xuất hiện các biển báo nhắc nhở về phòng chống COVID-19.\n",
      "*   **Chăm sóc y tế:** Hình ảnh bác sĩ trong môi trường bệnh viện, tập trung vào công tác vệ sinh, khử trùng và hỗ trợ bệnh nhân.\n",
      "\n",
      "**Phản ứng và Canh chống dịch (35.84 - 91.16s):**\n",
      "\n",
      "*   **Tình hình dịch bệnh:**  Thông tin về tình hình dịch bệnh tại Nghệ An (17 ca Covid-19, không có ca tử vong).\n",
      "*   **Phòng chống dịch tại chỗ:**  Hình ảnh người đứng đầu địa phương chịu trách nhiệm trong công tác phòng chống dịch.\n",
      "*   **Kiểm tra và Di chuyển:**\n",
      "    *   **Kiểm tra:**  Hình ảnh thực hiện xét nghiệm bằng mẫu nước mũi.\n",
      "    *   **Di chuyển:**  Hình ảnh tại sân bay (cả hành khách và cảnh người dân di chuyển).\n",
      "    *   **Di chuyển:** Hình ảnh tại nhà ga, hành khách tại nhà ga.\n",
      "\n",
      "**Lưu ý:** Bản tóm tắt này dựa trên thông tin audio được cung cấp. Nếu có thêm thông tin chi tiết về từng cảnh, bản tóm tắt có thể được điều chỉnh để cung cấp thông tin đầy đủ hơn.\n"
     ]
    }
   ],
   "source": [
    "# summarize the captions\n",
    "audio= \"Thời gian gần đây, tình hình xuất huyết, tay chân miệng, Covid-19 có xu hướng tăng cục bộ do lượng người di chuyển tăng cao. Bộ Y tế yêu cầu các địa phương tổ chức cao điểm phòng chống dịch, xây dựng phương án phân tuyến điều trị và bố trí đội cơ động tại các điểm nóng. Người dân cần đeo khẩu trang, rửa tay thường xuyên, hạn chế tụ tập đông người và theo dõi sức khỏe. Tỉnh Nghệ An ghi nhận 17 ca Covid-19, không có ca tử vong. Người đứng đầu chịu trách nhiệm nếu có sai sót trong công tác phòng chống dịch\"\n",
    "\n",
    "summary = gemma3_summarization(client_1, '\\n'.join(grouped_captions_with_time), audio)\n",
    "if summary:\n",
    "    print(\"Summary of grouped captions:\", summary)\n",
    "\n"
   ]
  },
  {
   "cell_type": "code",
   "execution_count": null,
   "id": "d42fa7e8",
   "metadata": {},
   "outputs": [
    {
     "ename": "TypeError",
     "evalue": "Client.embed() got an unexpected keyword argument 'server'",
     "output_type": "error",
     "traceback": [
      "\u001b[1;31m---------------------------------------------------------------------------\u001b[0m",
      "\u001b[1;31mTypeError\u001b[0m                                 Traceback (most recent call last)",
      "Cell \u001b[1;32mIn[38], line 4\u001b[0m\n\u001b[0;32m      1\u001b[0m \u001b[38;5;28;01mimport\u001b[39;00m\u001b[38;5;250m \u001b[39m\u001b[38;5;21;01mollama\u001b[39;00m\n\u001b[0;32m      3\u001b[0m \u001b[38;5;66;03m# Tạo embedding cho văn bản\u001b[39;00m\n\u001b[1;32m----> 4\u001b[0m embedding \u001b[38;5;241m=\u001b[39m \u001b[43mollama\u001b[49m\u001b[38;5;241;43m.\u001b[39;49m\u001b[43membed\u001b[49m\u001b[43m(\u001b[49m\n\u001b[0;32m      5\u001b[0m \u001b[43m    \u001b[49m\u001b[43mmodel\u001b[49m\u001b[38;5;241;43m=\u001b[39;49m\u001b[38;5;124;43m'\u001b[39;49m\u001b[38;5;124;43mbge-m3\u001b[39;49m\u001b[38;5;124;43m'\u001b[39;49m\u001b[43m,\u001b[49m\n\u001b[0;32m      6\u001b[0m \u001b[43m    \u001b[49m\u001b[38;5;28;43minput\u001b[39;49m\u001b[38;5;241;43m=\u001b[39;49m\u001b[38;5;124;43m'\u001b[39;49m\u001b[38;5;124;43mTrí tuệ nhân tạo đang thay đổi thế giới.\u001b[39;49m\u001b[38;5;124;43m'\u001b[39;49m\u001b[43m,\u001b[49m\n\u001b[0;32m      7\u001b[0m \u001b[43m    \u001b[49m\u001b[43mserver\u001b[49m\u001b[38;5;241;43m=\u001b[39;49m\u001b[38;5;124;43m'\u001b[39;49m\u001b[38;5;124;43mhttp://localhost:11434\u001b[39;49m\u001b[38;5;124;43m'\u001b[39;49m\u001b[43m \u001b[49m\n\u001b[0;32m      8\u001b[0m \u001b[43m)\u001b[49m\n\u001b[0;32m     10\u001b[0m \u001b[38;5;28mprint\u001b[39m(embedding[\u001b[38;5;124m'\u001b[39m\u001b[38;5;124membedding\u001b[39m\u001b[38;5;124m'\u001b[39m][:\u001b[38;5;241m10\u001b[39m])  \u001b[38;5;66;03m# In ra 10 giá trị đầu tiên của vector\u001b[39;00m\n",
      "\u001b[1;31mTypeError\u001b[0m: Client.embed() got an unexpected keyword argument 'server'"
     ]
    }
   ],
   "source": [
    "import ollama\n",
    "\n",
    "# Tạo embedding cho văn bản\n",
    "embedding = ollama.embed(\n",
    "    model='bge-m3',\n",
    "    input='Trí tuệ nhân tạo đang thay đổi thế giới.',\n",
    "    host='http://localhost:11434' \n",
    ")\n",
    "\n",
    "print(embedding['embedding'][:10])  # In ra 10 giá trị đầu tiên của vector\n"
   ]
  },
  {
   "cell_type": "code",
   "execution_count": null,
   "id": "711e4313",
   "metadata": {},
   "outputs": [],
   "source": []
  },
  {
   "cell_type": "code",
   "execution_count": null,
   "id": "fec29bfd",
   "metadata": {},
   "outputs": [],
   "source": []
  },
  {
   "cell_type": "code",
   "execution_count": null,
   "id": "cdd34f60",
   "metadata": {},
   "outputs": [],
   "source": []
  },
  {
   "cell_type": "code",
   "execution_count": 36,
   "id": "090344b9",
   "metadata": {},
   "outputs": [],
   "source": [
    "similar_frame_groups = groups\n"
   ]
  },
  {
   "cell_type": "code",
   "execution_count": 77,
   "id": "9ab2d22a",
   "metadata": {},
   "outputs": [
    {
     "data": {
      "text/plain": [
       "[(0, 472),\n",
       " (472, 1341),\n",
       " (1341, 1472),\n",
       " (1472, 1605),\n",
       " (1605, 2134),\n",
       " (2134, 2716),\n",
       " (2716, 3087),\n",
       " (3087, 3525),\n",
       " (3525, 4051),\n",
       " (4051, 4837),\n",
       " (4837, 5339),\n",
       " (5339, 5716),\n",
       " (5716, 6289),\n",
       " (6289, 6470),\n",
       " (6470, 7228),\n",
       " (7228, 7964),\n",
       " (7964, 8435),\n",
       " (8435, 9525),\n",
       " (9525, 9981),\n",
       " (9981, 10644),\n",
       " (10644, 10924),\n",
       " (10924, 11233),\n",
       " (11233, 12368),\n",
       " (12368, 13060),\n",
       " (13060, 13689),\n",
       " (13689, 14826),\n",
       " (14826, 15025),\n",
       " (15025, 15464),\n",
       " (15464, 16192),\n",
       " (16192, 16372),\n",
       " (16372, 16614)]"
      ]
     },
     "execution_count": 77,
     "metadata": {},
     "output_type": "execute_result"
    }
   ],
   "source": [
    "# group the start and end frames of each group\n",
    "def group_frame_ranges(groups, frame_list):\n",
    "    \"\"\"\n",
    "    Groups the start and end frames of each group.\n",
    "\n",
    "    Args:\n",
    "        groups (list of list): List of groups of similar frames.\n",
    "        frame_list (list of tuple): List of tuples containing start and end frames.\n",
    "\n",
    "    Returns:\n",
    "        list of tuple: List of tuples containing start and end frames for each group.\n",
    "    \"\"\"\n",
    "    grouped_ranges = []\n",
    "    \n",
    "    for group in groups:\n",
    "        if group:\n",
    "            start_frame = frame_list[group[0]][0]\n",
    "            end_frame = frame_list[group[-1]][1]\n",
    "            grouped_ranges.append((start_frame, end_frame))\n",
    "    \n",
    "    return grouped_ranges\n",
    "grouped_ranges = group_frame_ranges(similar_frame_groups, frame_list['frame_list'])\n",
    "grouped_ranges"
   ]
  },
  {
   "cell_type": "code",
   "execution_count": 78,
   "id": "b1de809b",
   "metadata": {},
   "outputs": [
    {
     "ename": "KeyboardInterrupt",
     "evalue": "",
     "output_type": "error",
     "traceback": [
      "\u001b[0;31m---------------------------------------------------------------------------\u001b[0m",
      "\u001b[0;31mKeyboardInterrupt\u001b[0m                         Traceback (most recent call last)",
      "Cell \u001b[0;32mIn[78], line 21\u001b[0m\n\u001b[1;32m     19\u001b[0m     \u001b[38;5;28;01mif\u001b[39;00m \u001b[38;5;129;01mnot\u001b[39;00m ret:\n\u001b[1;32m     20\u001b[0m         \u001b[38;5;28;01mbreak\u001b[39;00m\n\u001b[0;32m---> 21\u001b[0m     out\u001b[38;5;241m.\u001b[39mwrite(frame)\n\u001b[1;32m     23\u001b[0m out\u001b[38;5;241m.\u001b[39mrelease()\n\u001b[1;32m     24\u001b[0m cap\u001b[38;5;241m.\u001b[39mrelease()\n",
      "\u001b[0;31mKeyboardInterrupt\u001b[0m: "
     ]
    }
   ],
   "source": [
    "scene_path = \"scene_grouped\"\n",
    "import os\n",
    "if not os.path.exists(scene_path):\n",
    "    os.makedirs(scene_path)\n",
    "# Save the grouped scenes as clips\n",
    "num_clips = len(grouped_ranges)\n",
    "for i in range(num_clips):\n",
    "    start_frame, end_frame = grouped_ranges[i]\n",
    "    mid_frame = mid_frames[i]\n",
    "    cap = cv2.VideoCapture(video_path)\n",
    "    cap.set(cv2.CAP_PROP_POS_FRAMES, start_frame)\n",
    "    \n",
    "    out = cv2.VideoWriter(f\"{scene_path}/clip_{i}.mp4\", \n",
    "                          cv2.VideoWriter_fourcc(*'mp4v'), \n",
    "                          30, (int(cap.get(3)), int(cap.get(4))))\n",
    "    \n",
    "    for frame_num in range(start_frame, end_frame + 1):\n",
    "        ret, frame = cap.read()\n",
    "        if not ret:\n",
    "            break\n",
    "        out.write(frame)\n",
    "    \n",
    "    out.release()\n",
    "    cap.release()\n"
   ]
  },
  {
   "cell_type": "code",
   "execution_count": null,
   "id": "3a6e65d5",
   "metadata": {},
   "outputs": [],
   "source": [
    "import unicodedata\n",
    "\n",
    "def remove_vietnamese_accents(text):\n",
    "    \"\"\"\n",
    "    Convert Vietnamese text to unsigned characters by removing accents.\n",
    "\n",
    "    Args:\n",
    "        text (str): The input Vietnamese text.\n",
    "\n",
    "    Returns:\n",
    "        str: Text with accents removed.\n",
    "    \"\"\"\n",
    "    text = unicodedata.normalize('NFD', text)\n",
    "    text = ''.join(char for char in text if unicodedata.category(char) != 'Mn')\n",
    "    return text\n",
    "\n",
    "out_video_path = remove_vietnamese_accents(video_path)"
   ]
  },
  {
   "cell_type": "code",
   "execution_count": 81,
   "id": "9b3ee3dc",
   "metadata": {},
   "outputs": [
    {
     "data": {
      "text/plain": [
       "'Tiêu điểm_ SPF chỉ là con số  Cảnh báo từ những vụ bê bối kem chống nắng _ VTV24.mp4'"
      ]
     },
     "execution_count": 81,
     "metadata": {},
     "output_type": "execute_result"
    }
   ],
   "source": [
    "import os \n",
    "video_name  = os.path.basename(video_path)\n",
    "video_name"
   ]
  },
  {
   "cell_type": "code",
   "execution_count": 82,
   "id": "255411d9",
   "metadata": {},
   "outputs": [],
   "source": [
    "video_name = video_name.split('.')[0]  # Get the base name without extension\n",
    "# write to video, denote the start and end frames of each group\n",
    "def write_grouped_video(video_path, grouped_ranges, output_path):\n",
    "    \"\"\"\n",
    "    Writes a new video file with highlighted groups of frames.\n",
    "\n",
    "    Args:\n",
    "        video_path (str): Path to the input video file.\n",
    "        grouped_ranges (list of tuple): List of tuples containing start and end frames for each group.\n",
    "        output_path (str): Path to save the output video file.\n",
    "    \"\"\"\n",
    "    cap = cv2.VideoCapture(video_path)\n",
    "    fps = int(cap.get(cv2.CAP_PROP_FPS))\n",
    "    width = int(cap.get(cv2.CAP_PROP_FRAME_WIDTH))\n",
    "    height = int(cap.get(cv2.CAP_PROP_FRAME_HEIGHT))\n",
    "    \n",
    "    fourcc = cv2.VideoWriter_fourcc(*'mp4v')\n",
    "    out = cv2.VideoWriter(output_path, fourcc, fps, (width, height))\n",
    "\n",
    "    frame_count = 0\n",
    "    while True:\n",
    "        ret, frame = cap.read()\n",
    "        if not ret:\n",
    "            break\n",
    "        \n",
    "        for start, end in grouped_ranges:\n",
    "            if start <= frame_count <= end:\n",
    "                cv2.putText(frame, f\"Group: {start}-{end}\", (10, 30), cv2.FONT_HERSHEY_SIMPLEX, 1, (0, 255, 0), 2)\n",
    "        for start, end in frame_list['frame_list']:\n",
    "            if start <= frame_count <= end:\n",
    "                cv2.putText(frame, f\"Original: {start}-{end}\", (10, 70), cv2.FONT_HERSHEY_SIMPLEX, 1, (255, 0, 0), 2)\n",
    "        out.write(frame)\n",
    "        frame_count += 1\n",
    "\n",
    "    cap.release()\n",
    "    out.release()\n",
    "output_video_path = f\"grouped_video_{video_name}.mp4\"\n",
    "write_grouped_video(video_path, grouped_ranges, output_video_path)\n"
   ]
  },
  {
   "cell_type": "code",
   "execution_count": 80,
   "id": "9d36e944",
   "metadata": {},
   "outputs": [
    {
     "ename": "NameError",
     "evalue": "name 'video_name' is not defined",
     "output_type": "error",
     "traceback": [
      "\u001b[0;31m---------------------------------------------------------------------------\u001b[0m",
      "\u001b[0;31mNameError\u001b[0m                                 Traceback (most recent call last)",
      "Cell \u001b[0;32mIn[80], line 35\u001b[0m\n\u001b[1;32m     33\u001b[0m     cap\u001b[38;5;241m.\u001b[39mrelease()\n\u001b[1;32m     34\u001b[0m     out\u001b[38;5;241m.\u001b[39mrelease()\n\u001b[0;32m---> 35\u001b[0m original_video_path \u001b[38;5;241m=\u001b[39m \u001b[38;5;124mf\u001b[39m\u001b[38;5;124m\"\u001b[39m\u001b[38;5;124moriginal_video_\u001b[39m\u001b[38;5;132;01m{\u001b[39;00mvideo_name\u001b[38;5;132;01m}\u001b[39;00m\u001b[38;5;124m.mp4\u001b[39m\u001b[38;5;124m\"\u001b[39m\n\u001b[1;32m     36\u001b[0m write_original_video(video_path, frame_list, original_video_path)\n",
      "\u001b[0;31mNameError\u001b[0m: name 'video_name' is not defined"
     ]
    }
   ],
   "source": [
    "# write original video with original start and end frames\n",
    "\n",
    "def write_original_video(video_path, frame_list, output_path):\n",
    "    \"\"\"\n",
    "    Writes a new video file with original start and end frames highlighted.\n",
    "\n",
    "    Args:\n",
    "        video_path (str): Path to the input video file.\n",
    "        frame_list (list of tuple): List of tuples containing start and end frames.\n",
    "        output_path (str): Path to save the output video file.\n",
    "    \"\"\"\n",
    "    cap = cv2.VideoCapture(video_path)\n",
    "    fps = int(cap.get(cv2.CAP_PROP_FPS))\n",
    "    width = int(cap.get(cv2.CAP_PROP_FRAME_WIDTH))\n",
    "    height = int(cap.get(cv2.CAP_PROP_FRAME_HEIGHT))\n",
    "    \n",
    "    fourcc = cv2.VideoWriter_fourcc(*'mp4v')\n",
    "    out = cv2.VideoWriter(output_path, fourcc, fps, (width, height))\n",
    "\n",
    "    frame_count = 0\n",
    "    while True:\n",
    "        ret, frame = cap.read()\n",
    "        if not ret:\n",
    "            break\n",
    "        \n",
    "        for start, end in frame_list['frame_list']:\n",
    "            if start <= frame_count <= end:\n",
    "                cv2.putText(frame, f\"Original: {start}-{end}\", (10, 30), cv2.FONT_HERSHEY_SIMPLEX, 1, (0, 255, 0), 2)\n",
    "        \n",
    "        out.write(frame)\n",
    "        frame_count += 1\n",
    "\n",
    "    cap.release()\n",
    "    out.release()\n",
    "original_video_path = f\"original_video_{video_name}.mp4\"\n",
    "write_original_video(video_path, frame_list, original_video_path)"
   ]
  },
  {
   "cell_type": "code",
   "execution_count": null,
   "id": "fd467375",
   "metadata": {},
   "outputs": [],
   "source": []
  },
  {
   "cell_type": "code",
   "execution_count": null,
   "id": "39b0bfbe",
   "metadata": {},
   "outputs": [],
   "source": []
  },
  {
   "cell_type": "code",
   "execution_count": null,
   "id": "bd2d4061",
   "metadata": {},
   "outputs": [],
   "source": []
  }
 ],
 "metadata": {
  "kernelspec": {
   "display_name": "stt",
   "language": "python",
   "name": "python3"
  },
  "language_info": {
   "codemirror_mode": {
    "name": "ipython",
    "version": 3
   },
   "file_extension": ".py",
   "mimetype": "text/x-python",
   "name": "python",
   "nbconvert_exporter": "python",
   "pygments_lexer": "ipython3",
   "version": "3.11.11"
  }
 },
 "nbformat": 4,
 "nbformat_minor": 5
}
